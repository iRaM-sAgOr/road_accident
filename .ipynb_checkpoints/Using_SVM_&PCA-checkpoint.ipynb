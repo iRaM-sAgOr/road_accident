{
 "cells": [
  {
   "cell_type": "code",
   "execution_count": 17,
   "metadata": {
    "colab": {},
    "colab_type": "code",
    "id": "gJ51smu_fYf_"
   },
   "outputs": [],
   "source": [
    "import pandas as pd  \n",
    "import numpy as np\n",
    "import matplotlib.pyplot as plt\n",
    "plt.style.use('fivethirtyeight')\n",
    "\n",
    "%matplotlib inline\n",
    "%config InlineBackend.figure_format = 'retina'\n",
    "from sklearn import preprocessing\n"
   ]
  },
  {
   "cell_type": "code",
   "execution_count": 61,
   "metadata": {
    "colab": {
     "base_uri": "https://localhost:8080/",
     "height": 275
    },
    "colab_type": "code",
    "executionInfo": {
     "elapsed": 1785,
     "status": "ok",
     "timestamp": 1574705304795,
     "user": {
      "displayName": "ikramulhaq sagor",
      "photoUrl": "https://lh3.googleusercontent.com/a-/AAuE7mBinECFnyTHVgacoSMTL-RPuxB1TFV8SMsqr3FepQ=s64",
      "userId": "05063874681058892168"
     },
     "user_tz": -360
    },
    "id": "9W7nSUFNfoos",
    "outputId": "077ffe70-d6ea-4ba8-cb6d-a83135aff434"
   },
   "outputs": [
    {
     "data": {
      "text/html": [
       "<div>\n",
       "<style scoped>\n",
       "    .dataframe tbody tr th:only-of-type {\n",
       "        vertical-align: middle;\n",
       "    }\n",
       "\n",
       "    .dataframe tbody tr th {\n",
       "        vertical-align: top;\n",
       "    }\n",
       "\n",
       "    .dataframe thead th {\n",
       "        text-align: right;\n",
       "    }\n",
       "</style>\n",
       "<table border=\"1\" class=\"dataframe\">\n",
       "  <thead>\n",
       "    <tr style=\"text-align: right;\">\n",
       "      <th></th>\n",
       "      <th>Crash ID</th>\n",
       "      <th>Date</th>\n",
       "      <th>Day of Week</th>\n",
       "      <th>Time</th>\n",
       "      <th>Lane Count</th>\n",
       "      <th>Crash Type</th>\n",
       "      <th>Functional Class</th>\n",
       "      <th>Speed Limit</th>\n",
       "      <th>Environmental Conditions</th>\n",
       "      <th>Light Conditions</th>\n",
       "      <th>...</th>\n",
       "      <th>Total Vehicles Involved</th>\n",
       "      <th>Curve Related</th>\n",
       "      <th>Alcohol Involved</th>\n",
       "      <th>Distracted Driving Involved</th>\n",
       "      <th>Drugged Driver Involved</th>\n",
       "      <th>Older Driver Involved</th>\n",
       "      <th>Temp Traffic Control Zone</th>\n",
       "      <th>Traffic Controls Present</th>\n",
       "      <th>Vehicle Type</th>\n",
       "      <th>Severity</th>\n",
       "    </tr>\n",
       "  </thead>\n",
       "  <tbody>\n",
       "    <tr>\n",
       "      <td>0</td>\n",
       "      <td>9969918</td>\n",
       "      <td>4</td>\n",
       "      <td>1</td>\n",
       "      <td>2</td>\n",
       "      <td>3</td>\n",
       "      <td>3</td>\n",
       "      <td>2</td>\n",
       "      <td>4</td>\n",
       "      <td>1</td>\n",
       "      <td>4</td>\n",
       "      <td>...</td>\n",
       "      <td>2</td>\n",
       "      <td>2</td>\n",
       "      <td>2</td>\n",
       "      <td>2</td>\n",
       "      <td>2</td>\n",
       "      <td>1</td>\n",
       "      <td>1</td>\n",
       "      <td>1</td>\n",
       "      <td>1</td>\n",
       "      <td>3</td>\n",
       "    </tr>\n",
       "    <tr>\n",
       "      <td>1</td>\n",
       "      <td>9741036</td>\n",
       "      <td>4</td>\n",
       "      <td>1</td>\n",
       "      <td>1</td>\n",
       "      <td>3</td>\n",
       "      <td>1</td>\n",
       "      <td>2</td>\n",
       "      <td>4</td>\n",
       "      <td>1</td>\n",
       "      <td>4</td>\n",
       "      <td>...</td>\n",
       "      <td>2</td>\n",
       "      <td>1</td>\n",
       "      <td>2</td>\n",
       "      <td>1</td>\n",
       "      <td>2</td>\n",
       "      <td>2</td>\n",
       "      <td>1</td>\n",
       "      <td>1</td>\n",
       "      <td>1</td>\n",
       "      <td>3</td>\n",
       "    </tr>\n",
       "    <tr>\n",
       "      <td>2</td>\n",
       "      <td>9965952</td>\n",
       "      <td>4</td>\n",
       "      <td>1</td>\n",
       "      <td>1</td>\n",
       "      <td>3</td>\n",
       "      <td>1</td>\n",
       "      <td>2</td>\n",
       "      <td>4</td>\n",
       "      <td>1</td>\n",
       "      <td>3</td>\n",
       "      <td>...</td>\n",
       "      <td>2</td>\n",
       "      <td>2</td>\n",
       "      <td>2</td>\n",
       "      <td>1</td>\n",
       "      <td>2</td>\n",
       "      <td>3</td>\n",
       "      <td>1</td>\n",
       "      <td>1</td>\n",
       "      <td>1</td>\n",
       "      <td>3</td>\n",
       "    </tr>\n",
       "    <tr>\n",
       "      <td>3</td>\n",
       "      <td>9705367</td>\n",
       "      <td>4</td>\n",
       "      <td>1</td>\n",
       "      <td>1</td>\n",
       "      <td>2</td>\n",
       "      <td>3</td>\n",
       "      <td>2</td>\n",
       "      <td>1</td>\n",
       "      <td>2</td>\n",
       "      <td>2</td>\n",
       "      <td>...</td>\n",
       "      <td>2</td>\n",
       "      <td>2</td>\n",
       "      <td>2</td>\n",
       "      <td>2</td>\n",
       "      <td>2</td>\n",
       "      <td>2</td>\n",
       "      <td>1</td>\n",
       "      <td>1</td>\n",
       "      <td>3</td>\n",
       "      <td>3</td>\n",
       "    </tr>\n",
       "    <tr>\n",
       "      <td>4</td>\n",
       "      <td>9741034</td>\n",
       "      <td>4</td>\n",
       "      <td>2</td>\n",
       "      <td>1</td>\n",
       "      <td>3</td>\n",
       "      <td>3</td>\n",
       "      <td>2</td>\n",
       "      <td>4</td>\n",
       "      <td>2</td>\n",
       "      <td>4</td>\n",
       "      <td>...</td>\n",
       "      <td>2</td>\n",
       "      <td>2</td>\n",
       "      <td>2</td>\n",
       "      <td>2</td>\n",
       "      <td>2</td>\n",
       "      <td>2</td>\n",
       "      <td>1</td>\n",
       "      <td>1</td>\n",
       "      <td>1</td>\n",
       "      <td>3</td>\n",
       "    </tr>\n",
       "  </tbody>\n",
       "</table>\n",
       "<p>5 rows × 21 columns</p>\n",
       "</div>"
      ],
      "text/plain": [
       "   Crash ID  Date  Day of Week  Time  Lane Count  Crash Type  \\\n",
       "0   9969918     4            1     2           3           3   \n",
       "1   9741036     4            1     1           3           1   \n",
       "2   9965952     4            1     1           3           1   \n",
       "3   9705367     4            1     1           2           3   \n",
       "4   9741034     4            2     1           3           3   \n",
       "\n",
       "   Functional Class  Speed Limit  Environmental Conditions  Light Conditions  \\\n",
       "0                 2            4                         1                 4   \n",
       "1                 2            4                         1                 4   \n",
       "2                 2            4                         1                 3   \n",
       "3                 2            1                         2                 2   \n",
       "4                 2            4                         2                 4   \n",
       "\n",
       "   ...  Total Vehicles Involved  Curve Related  Alcohol Involved  \\\n",
       "0  ...                        2              2                 2   \n",
       "1  ...                        2              1                 2   \n",
       "2  ...                        2              2                 2   \n",
       "3  ...                        2              2                 2   \n",
       "4  ...                        2              2                 2   \n",
       "\n",
       "   Distracted Driving Involved  Drugged Driver Involved  \\\n",
       "0                            2                        2   \n",
       "1                            1                        2   \n",
       "2                            1                        2   \n",
       "3                            2                        2   \n",
       "4                            2                        2   \n",
       "\n",
       "   Older Driver Involved  Temp Traffic Control Zone  Traffic Controls Present  \\\n",
       "0                      1                          1                         1   \n",
       "1                      2                          1                         1   \n",
       "2                      3                          1                         1   \n",
       "3                      2                          1                         1   \n",
       "4                      2                          1                         1   \n",
       "\n",
       "   Vehicle Type  Severity  \n",
       "0             1         3  \n",
       "1             1         3  \n",
       "2             1         3  \n",
       "3             3         3  \n",
       "4             1         3  \n",
       "\n",
       "[5 rows x 21 columns]"
      ]
     },
     "execution_count": 61,
     "metadata": {},
     "output_type": "execute_result"
    }
   ],
   "source": [
    "csv = 'Crash_Data.csv'\n",
    "col_Names=[\"Crash ID\",\"Date\",\"Day of Weeky\", \"Time\",\"Lane Count\",\"Median Type\", \"Crash Type\", \"Functional Class\", \n",
    "           \"Speed Limit\",\"Environmental Conditions\",\"Light Conditions\", \"Severity\", \"Surface Condition\", \"Total Vehicles Involved\",\"Curve Related\",\"Alcohol Involved\",\"Distracted Driving Involved\"\n",
    "           ,\"Drugged Driver Involved\",\"Older Driver Involved\"]\n",
    "my_df1 = pd.read_csv(csv,index_col=False)\n",
    "my_df1.head()\n"
   ]
  },
  {
   "cell_type": "code",
   "execution_count": 62,
   "metadata": {
    "colab": {},
    "colab_type": "code",
    "id": "NpCRhxh4tDvZ"
   },
   "outputs": [],
   "source": [
    "my_df = my_df1[6000:8000]"
   ]
  },
  {
   "cell_type": "code",
   "execution_count": 63,
   "metadata": {
    "colab": {
     "base_uri": "https://localhost:8080/",
     "height": 34
    },
    "colab_type": "code",
    "executionInfo": {
     "elapsed": 655,
     "status": "ok",
     "timestamp": 1574705868024,
     "user": {
      "displayName": "ikramulhaq sagor",
      "photoUrl": "https://lh3.googleusercontent.com/a-/AAuE7mBinECFnyTHVgacoSMTL-RPuxB1TFV8SMsqr3FepQ=s64",
      "userId": "05063874681058892168"
     },
     "user_tz": -360
    },
    "id": "ffOtsSywlzqn",
    "outputId": "3f2a3245-474a-4323-c971-2f04239b0db9"
   },
   "outputs": [
    {
     "data": {
      "text/plain": [
       "2000"
      ]
     },
     "execution_count": 63,
     "metadata": {},
     "output_type": "execute_result"
    }
   ],
   "source": [
    "my_df['Severity'].isnull().sum()\n",
    "len(my_df['Severity'])"
   ]
  },
  {
   "cell_type": "markdown",
   "metadata": {
    "colab_type": "text",
    "id": "f0ZN3nqooUNL"
   },
   "source": [
    "# **There is no missing value in the dataframe**"
   ]
  },
  {
   "cell_type": "code",
   "execution_count": 64,
   "metadata": {
    "colab": {
     "base_uri": "https://localhost:8080/",
     "height": 173
    },
    "colab_type": "code",
    "executionInfo": {
     "elapsed": 1102,
     "status": "ok",
     "timestamp": 1574705871126,
     "user": {
      "displayName": "ikramulhaq sagor",
      "photoUrl": "https://lh3.googleusercontent.com/a-/AAuE7mBinECFnyTHVgacoSMTL-RPuxB1TFV8SMsqr3FepQ=s64",
      "userId": "05063874681058892168"
     },
     "user_tz": -360
    },
    "id": "6euTyOv-kH6_",
    "outputId": "e5234cdd-8f61-43a3-b907-dc8a0f63b57a"
   },
   "outputs": [
    {
     "data": {
      "text/html": [
       "<div>\n",
       "<style scoped>\n",
       "    .dataframe tbody tr th:only-of-type {\n",
       "        vertical-align: middle;\n",
       "    }\n",
       "\n",
       "    .dataframe tbody tr th {\n",
       "        vertical-align: top;\n",
       "    }\n",
       "\n",
       "    .dataframe thead th {\n",
       "        text-align: right;\n",
       "    }\n",
       "</style>\n",
       "<table border=\"1\" class=\"dataframe\">\n",
       "  <thead>\n",
       "    <tr style=\"text-align: right;\">\n",
       "      <th>col_0</th>\n",
       "      <th>count</th>\n",
       "    </tr>\n",
       "    <tr>\n",
       "      <th>Severity</th>\n",
       "      <th></th>\n",
       "    </tr>\n",
       "  </thead>\n",
       "  <tbody>\n",
       "    <tr>\n",
       "      <td>1</td>\n",
       "      <td>6</td>\n",
       "    </tr>\n",
       "    <tr>\n",
       "      <td>2</td>\n",
       "      <td>66</td>\n",
       "    </tr>\n",
       "    <tr>\n",
       "      <td>3</td>\n",
       "      <td>1928</td>\n",
       "    </tr>\n",
       "  </tbody>\n",
       "</table>\n",
       "</div>"
      ],
      "text/plain": [
       "col_0     count\n",
       "Severity       \n",
       "1             6\n",
       "2            66\n",
       "3          1928"
      ]
     },
     "execution_count": 64,
     "metadata": {},
     "output_type": "execute_result"
    }
   ],
   "source": [
    "#Frequency distribution of classes\"\n",
    "train_outcome = pd.crosstab(index=my_df[\"Severity\"],  # Make a crosstab\n",
    "                              columns=\"count\")      # Name the count column\n",
    "\n",
    "train_outcome"
   ]
  },
  {
   "cell_type": "code",
   "execution_count": 65,
   "metadata": {
    "colab": {
     "base_uri": "https://localhost:8080/",
     "height": 297
    },
    "colab_type": "code",
    "executionInfo": {
     "elapsed": 1471,
     "status": "ok",
     "timestamp": 1574705875141,
     "user": {
      "displayName": "ikramulhaq sagor",
      "photoUrl": "https://lh3.googleusercontent.com/a-/AAuE7mBinECFnyTHVgacoSMTL-RPuxB1TFV8SMsqr3FepQ=s64",
      "userId": "05063874681058892168"
     },
     "user_tz": -360
    },
    "id": "H3_HUgXDsI3h",
    "outputId": "3bf3ae0d-7e16-4748-cf20-9b084eb05b71"
   },
   "outputs": [
    {
     "data": {
      "image/png": "[encoded data removed]",
      "text/plain": [
       "<Figure size 432x288 with 1 Axes>"
      ]
     },
     "metadata": {
      "image/png": {
       "height": 280,
       "width": 424
      }
     },
     "output_type": "display_data"
    }
   ],
   "source": [
    "# Visualizing Outcome Distribution \n",
    "temp = my_df[\"Severity\"].value_counts()\n",
    "# print(temp.values)\n",
    "df = pd.DataFrame({'labels': temp.index,\n",
    "                   'values': temp.values\n",
    "                  })\n",
    "\n",
    "labels = df['labels']\n",
    "sizes = df['values']\n",
    "colors = ['lightcoral','cyan','black']\n",
    "patches, texts = plt.pie(sizes, colors=colors, shadow=True, startangle=70, pctdistance=1.1, labeldistance=1.2)\n",
    "plt.legend(patches, labels, loc=\"best\")\n",
    "plt.axis('equal')\n",
    "plt.tight_layout()\n",
    "plt.show()"
   ]
  },
  {
   "cell_type": "code",
   "execution_count": 66,
   "metadata": {
    "colab": {},
    "colab_type": "code",
    "id": "qFQygXU2t-1M"
   },
   "outputs": [],
   "source": [
    "X = my_df.iloc[:,1:-1].values\n",
    "y = my_df.iloc[:,20].values"
   ]
  },
  {
   "cell_type": "code",
   "execution_count": 67,
   "metadata": {
    "colab": {
     "base_uri": "https://localhost:8080/",
     "height": 51
    },
    "colab_type": "code",
    "executionInfo": {
     "elapsed": 842,
     "status": "ok",
     "timestamp": 1574705878434,
     "user": {
      "displayName": "ikramulhaq sagor",
      "photoUrl": "https://lh3.googleusercontent.com/a-/AAuE7mBinECFnyTHVgacoSMTL-RPuxB1TFV8SMsqr3FepQ=s64",
      "userId": "05063874681058892168"
     },
     "user_tz": -360
    },
    "id": "UbFu4UntuCtN",
    "outputId": "2f8dd8a1-5b5d-4fd3-b1a5-771fa36fff90"
   },
   "outputs": [
    {
     "name": "stdout",
     "output_type": "stream",
     "text": [
      "(2000, 19) (2000,)\n",
      "[3 3 3 3 3 3 3 3 3 3]\n"
     ]
    }
   ],
   "source": [
    "print(X.shape,y.shape)\n",
    "print(y[0:10])"
   ]
  },
  {
   "cell_type": "code",
   "execution_count": 68,
   "metadata": {
    "colab": {},
    "colab_type": "code",
    "id": "umJTrLIvnUIr"
   },
   "outputs": [],
   "source": [
    "from sklearn.model_selection import train_test_split\n",
    "X_train, X_test, y_train, y_test = train_test_split(X, y, test_size = 0.2, random_state = 0)"
   ]
  },
  {
   "cell_type": "code",
   "execution_count": 69,
   "metadata": {
    "colab": {
     "base_uri": "https://localhost:8080/",
     "height": 34
    },
    "colab_type": "code",
    "executionInfo": {
     "elapsed": 1193,
     "status": "ok",
     "timestamp": 1574705882635,
     "user": {
      "displayName": "ikramulhaq sagor",
      "photoUrl": "https://lh3.googleusercontent.com/a-/AAuE7mBinECFnyTHVgacoSMTL-RPuxB1TFV8SMsqr3FepQ=s64",
      "userId": "05063874681058892168"
     },
     "user_tz": -360
    },
    "id": "cuRGUWNQuO4Z",
    "outputId": "64b9450b-73d0-4948-8c61-9a98e7b59944"
   },
   "outputs": [
    {
     "name": "stdout",
     "output_type": "stream",
     "text": [
      "1600 1600 400 400\n"
     ]
    }
   ],
   "source": [
    "print(len(X_train),len(y_train),len(X_test),len(y_test))"
   ]
  },
  {
   "cell_type": "code",
   "execution_count": 70,
   "metadata": {
    "colab": {},
    "colab_type": "code",
    "id": "mxU6gKHVuWgP"
   },
   "outputs": [],
   "source": [
    "# Scaling the Train and Test feature set \n",
    "from sklearn.preprocessing import StandardScaler\n",
    "scaler = StandardScaler()\n",
    "X_train = scaler.fit_transform(X_train)\n",
    "X_test = scaler.transform(X_test)"
   ]
  },
  {
   "cell_type": "code",
   "execution_count": 71,
   "metadata": {
    "colab": {
     "base_uri": "https://localhost:8080/",
     "height": 85
    },
    "colab_type": "code",
    "executionInfo": {
     "elapsed": 1369,
     "status": "ok",
     "timestamp": 1574705887091,
     "user": {
      "displayName": "ikramulhaq sagor",
      "photoUrl": "https://lh3.googleusercontent.com/a-/AAuE7mBinECFnyTHVgacoSMTL-RPuxB1TFV8SMsqr3FepQ=s64",
      "userId": "05063874681058892168"
     },
     "user_tz": -360
    },
    "id": "YbtXzMwYQ7N2",
    "outputId": "205cdb86-906a-4c05-9c35-e867061d9474"
   },
   "outputs": [
    {
     "name": "stdout",
     "output_type": "stream",
     "text": [
      "[ 0.18734284  2.09890576 -0.60148091 -0.95618724 -0.93167916 -5.45611865\n",
      " -0.07809488  0.3790436  -0.5723614  -0.38548689  0.05044333  0.41802276\n",
      "  0.16418781  0.88415903  0.07930516 -1.80260703  4.04867968 -0.28006509\n",
      "  0.55059037]\n"
     ]
    }
   ],
   "source": [
    "print((X_train[0]))"
   ]
  },
  {
   "cell_type": "code",
   "execution_count": 72,
   "metadata": {
    "colab": {},
    "colab_type": "code",
    "id": "gyOeLkZFvewJ"
   },
   "outputs": [],
   "source": [
    "from sklearn.svm import SVC\n",
    "from sklearn.metrics import confusion_matrix,classification_report\n",
    "from sklearn.model_selection import cross_val_score, GridSearchCV"
   ]
  },
  {
   "cell_type": "markdown",
   "metadata": {
    "colab_type": "text",
    "id": "VBY7jRCtv8Jx"
   },
   "source": [
    "# Hyperparameter tuning using grid search and cross validation"
   ]
  },
  {
   "cell_type": "code",
   "execution_count": 74,
   "metadata": {
    "colab": {
     "base_uri": "https://localhost:8080/",
     "height": 1000
    },
    "colab_type": "code",
    "executionInfo": {
     "elapsed": 653079,
     "status": "ok",
     "timestamp": 1574706544938,
     "user": {
      "displayName": "ikramulhaq sagor",
      "photoUrl": "https://lh3.googleusercontent.com/a-/AAuE7mBinECFnyTHVgacoSMTL-RPuxB1TFV8SMsqr3FepQ=s64",
      "userId": "05063874681058892168"
     },
     "user_tz": -360
    },
    "id": "3UdLLGoHQxzn",
    "outputId": "9f58ec4e-25ba-4480-8f42-76fc88cb8f9b"
   },
   "outputs": [
    {
     "name": "stdout",
     "output_type": "stream",
     "text": [
      "Best parameters set found on development set:\n",
      "\n",
      "{'C': 1, 'gamma': 0.001, 'kernel': 'rbf'}\n",
      "Best score for training data: 0.9625 \n",
      "\n",
      "Grid scores on development set:\n",
      "\n",
      "0.962 (+/-0.004) for {'C': 1, 'kernel': 'linear'}\n",
      "0.959 (+/-0.010) for {'C': 10, 'kernel': 'linear'}\n",
      "0.959 (+/-0.010) for {'C': 100, 'kernel': 'linear'}\n",
      "0.959 (+/-0.010) for {'C': 1000, 'kernel': 'linear'}\n",
      "0.963 (+/-0.002) for {'C': 1, 'gamma': 0.001, 'kernel': 'rbf'}\n",
      "0.963 (+/-0.002) for {'C': 1, 'gamma': 0.0001, 'kernel': 'rbf'}\n",
      "0.963 (+/-0.002) for {'C': 10, 'gamma': 0.001, 'kernel': 'rbf'}\n",
      "0.963 (+/-0.002) for {'C': 10, 'gamma': 0.0001, 'kernel': 'rbf'}\n",
      "0.962 (+/-0.001) for {'C': 100, 'gamma': 0.001, 'kernel': 'rbf'}\n",
      "0.963 (+/-0.002) for {'C': 100, 'gamma': 0.0001, 'kernel': 'rbf'}\n",
      "0.958 (+/-0.010) for {'C': 1000, 'gamma': 0.001, 'kernel': 'rbf'}\n",
      "0.963 (+/-0.002) for {'C': 1000, 'gamma': 0.0001, 'kernel': 'rbf'}\n",
      "0.963 (+/-0.002) for {'C': 1, 'degree': 3, 'gamma': 0.001, 'kernel': 'poly'}\n",
      "0.963 (+/-0.002) for {'C': 1, 'degree': 3, 'gamma': 0.0001, 'kernel': 'poly'}\n",
      "0.963 (+/-0.002) for {'C': 1, 'degree': 4, 'gamma': 0.001, 'kernel': 'poly'}\n",
      "0.963 (+/-0.002) for {'C': 1, 'degree': 4, 'gamma': 0.0001, 'kernel': 'poly'}\n",
      "0.963 (+/-0.002) for {'C': 1, 'degree': 5, 'gamma': 0.001, 'kernel': 'poly'}\n",
      "0.963 (+/-0.002) for {'C': 1, 'degree': 5, 'gamma': 0.0001, 'kernel': 'poly'}\n",
      "0.963 (+/-0.002) for {'C': 1, 'degree': 6, 'gamma': 0.001, 'kernel': 'poly'}\n",
      "0.963 (+/-0.002) for {'C': 1, 'degree': 6, 'gamma': 0.0001, 'kernel': 'poly'}\n",
      "0.963 (+/-0.002) for {'C': 1, 'degree': 7, 'gamma': 0.001, 'kernel': 'poly'}\n",
      "0.963 (+/-0.002) for {'C': 1, 'degree': 7, 'gamma': 0.0001, 'kernel': 'poly'}\n",
      "0.963 (+/-0.002) for {'C': 1, 'degree': 8, 'gamma': 0.001, 'kernel': 'poly'}\n",
      "0.963 (+/-0.002) for {'C': 1, 'degree': 8, 'gamma': 0.0001, 'kernel': 'poly'}\n",
      "0.963 (+/-0.002) for {'C': 10, 'degree': 3, 'gamma': 0.001, 'kernel': 'poly'}\n",
      "0.963 (+/-0.002) for {'C': 10, 'degree': 3, 'gamma': 0.0001, 'kernel': 'poly'}\n",
      "0.963 (+/-0.002) for {'C': 10, 'degree': 4, 'gamma': 0.001, 'kernel': 'poly'}\n",
      "0.963 (+/-0.002) for {'C': 10, 'degree': 4, 'gamma': 0.0001, 'kernel': 'poly'}\n",
      "0.963 (+/-0.002) for {'C': 10, 'degree': 5, 'gamma': 0.001, 'kernel': 'poly'}\n",
      "0.963 (+/-0.002) for {'C': 10, 'degree': 5, 'gamma': 0.0001, 'kernel': 'poly'}\n",
      "0.963 (+/-0.002) for {'C': 10, 'degree': 6, 'gamma': 0.001, 'kernel': 'poly'}\n",
      "0.963 (+/-0.002) for {'C': 10, 'degree': 6, 'gamma': 0.0001, 'kernel': 'poly'}\n",
      "0.963 (+/-0.002) for {'C': 10, 'degree': 7, 'gamma': 0.001, 'kernel': 'poly'}\n",
      "0.963 (+/-0.002) for {'C': 10, 'degree': 7, 'gamma': 0.0001, 'kernel': 'poly'}\n",
      "0.963 (+/-0.002) for {'C': 10, 'degree': 8, 'gamma': 0.001, 'kernel': 'poly'}\n",
      "0.963 (+/-0.002) for {'C': 10, 'degree': 8, 'gamma': 0.0001, 'kernel': 'poly'}\n",
      "0.963 (+/-0.002) for {'C': 100, 'degree': 3, 'gamma': 0.001, 'kernel': 'poly'}\n",
      "0.963 (+/-0.002) for {'C': 100, 'degree': 3, 'gamma': 0.0001, 'kernel': 'poly'}\n",
      "0.963 (+/-0.002) for {'C': 100, 'degree': 4, 'gamma': 0.001, 'kernel': 'poly'}\n",
      "0.963 (+/-0.002) for {'C': 100, 'degree': 4, 'gamma': 0.0001, 'kernel': 'poly'}\n",
      "0.963 (+/-0.002) for {'C': 100, 'degree': 5, 'gamma': 0.001, 'kernel': 'poly'}\n",
      "0.963 (+/-0.002) for {'C': 100, 'degree': 5, 'gamma': 0.0001, 'kernel': 'poly'}\n",
      "0.963 (+/-0.002) for {'C': 100, 'degree': 6, 'gamma': 0.001, 'kernel': 'poly'}\n",
      "0.963 (+/-0.002) for {'C': 100, 'degree': 6, 'gamma': 0.0001, 'kernel': 'poly'}\n",
      "0.963 (+/-0.002) for {'C': 100, 'degree': 7, 'gamma': 0.001, 'kernel': 'poly'}\n",
      "0.963 (+/-0.002) for {'C': 100, 'degree': 7, 'gamma': 0.0001, 'kernel': 'poly'}\n",
      "0.963 (+/-0.002) for {'C': 100, 'degree': 8, 'gamma': 0.001, 'kernel': 'poly'}\n",
      "0.963 (+/-0.002) for {'C': 100, 'degree': 8, 'gamma': 0.0001, 'kernel': 'poly'}\n",
      "0.962 (+/-0.001) for {'C': 1000, 'degree': 3, 'gamma': 0.001, 'kernel': 'poly'}\n",
      "0.963 (+/-0.002) for {'C': 1000, 'degree': 3, 'gamma': 0.0001, 'kernel': 'poly'}\n",
      "0.963 (+/-0.002) for {'C': 1000, 'degree': 4, 'gamma': 0.001, 'kernel': 'poly'}\n",
      "0.963 (+/-0.002) for {'C': 1000, 'degree': 4, 'gamma': 0.0001, 'kernel': 'poly'}\n",
      "0.963 (+/-0.002) for {'C': 1000, 'degree': 5, 'gamma': 0.001, 'kernel': 'poly'}\n",
      "0.963 (+/-0.002) for {'C': 1000, 'degree': 5, 'gamma': 0.0001, 'kernel': 'poly'}\n",
      "0.963 (+/-0.002) for {'C': 1000, 'degree': 6, 'gamma': 0.001, 'kernel': 'poly'}\n",
      "0.963 (+/-0.002) for {'C': 1000, 'degree': 6, 'gamma': 0.0001, 'kernel': 'poly'}\n",
      "0.963 (+/-0.002) for {'C': 1000, 'degree': 7, 'gamma': 0.001, 'kernel': 'poly'}\n",
      "0.963 (+/-0.002) for {'C': 1000, 'degree': 7, 'gamma': 0.0001, 'kernel': 'poly'}\n",
      "0.963 (+/-0.002) for {'C': 1000, 'degree': 8, 'gamma': 0.001, 'kernel': 'poly'}\n",
      "0.963 (+/-0.002) for {'C': 1000, 'degree': 8, 'gamma': 0.0001, 'kernel': 'poly'}\n",
      "\n",
      "Detailed classification report:\n",
      "\n",
      "The model is trained on the full development set.\n",
      "The scores are computed on the full evaluation set.\n",
      "\n",
      "              precision    recall  f1-score   support\n",
      "\n",
      "           1       0.00      0.00      0.00         1\n",
      "           2       0.00      0.00      0.00        11\n",
      "           3       0.97      1.00      0.98       388\n",
      "\n",
      "    accuracy                           0.97       400\n",
      "   macro avg       0.32      0.33      0.33       400\n",
      "weighted avg       0.94      0.97      0.96       400\n",
      "\n",
      "\n"
     ]
    }
   ],
   "source": [
    "import warnings\n",
    "warnings.filterwarnings('ignore')\n",
    "# Set the parameters by cross-validation\n",
    "tuned_parameters = [{'kernel': ['linear'], 'C': [1, 10, 100, 1000]},{'kernel': ['rbf'], 'gamma': [1e-3, 1e-4],\n",
    "                     'C': [1, 10, 100, 1000]},{'kernel': ['poly'], 'gamma': [1e-3, 1e-4],'degree':[3,4,5,6,7,8],\n",
    "                     'C': [1, 10, 100, 1000]}\n",
    "                    ]\n",
    "\n",
    "clf = GridSearchCV(SVC(), tuned_parameters, cv=2,\n",
    "                       scoring='accuracy')\n",
    "clf.fit(X_train, y_train)\n",
    "\n",
    "print(\"Best parameters set found on development set:\")\n",
    "print()\n",
    "print(clf.best_params_)\n",
    "print('Best score for training data:', clf.best_score_,\"\\n\")\n",
    "print(\"Grid scores on development set:\")\n",
    "print()\n",
    "means = clf.cv_results_['mean_test_score']\n",
    "stds = clf.cv_results_['std_test_score']\n",
    "for mean, std, params in zip(means, stds, clf.cv_results_['params']):\n",
    "    print(\"%0.3f (+/-%0.03f) for %r\"\n",
    "              % (mean, std * 2, params))\n",
    "print()\n",
    "\n",
    "print(\"Detailed classification report:\")\n",
    "print()\n",
    "print(\"The model is trained on the full development set.\")\n",
    "print(\"The scores are computed on the full evaluation set.\")\n",
    "print()\n",
    "y_true, y_pred = y_test, clf.predict(X_test)\n",
    "print(classification_report(y_true, y_pred))\n",
    "print()\n",
    "\n"
   ]
  },
  {
   "cell_type": "code",
   "execution_count": 76,
   "metadata": {
    "colab": {},
    "colab_type": "code",
    "id": "0Uud4iCKbqbq"
   },
   "outputs": [
    {
     "name": "stdout",
     "output_type": "stream",
     "text": [
      "Testing accuracy for best combination  0.97\n"
     ]
    }
   ],
   "source": [
    "from sklearn.metrics import accuracy_score\n",
    "classifier = SVC(kernel='rbf',C=1,gamma=.001)\n",
    "classifier.fit(X_train, y_train)\n",
    "y_pred = classifier.predict(X_test)\n",
    "accuracy = accuracy_score(y_test,y_pred)\n",
    "print(\"Testing accuracy for best combination \",accuracy)"
   ]
  },
  {
   "cell_type": "code",
   "execution_count": null,
   "metadata": {},
   "outputs": [],
   "source": [
    "#feature selection#standard deviation# PCA#EDA"
   ]
  },
  {
   "cell_type": "code",
   "execution_count": null,
   "metadata": {},
   "outputs": [],
   "source": [
    "#https://sdsawtelle.github.io/blog/output/week7-andrew-ng-machine-learning-with-python.html\n",
    "#https://www.geeksforgeeks.org/principal-component-analysis-with-python/\n",
    "#https://www.youtube.com/watch?v=kApPBm1YsqU"
   ]
  },
  {
   "cell_type": "code",
   "execution_count": 85,
   "metadata": {},
   "outputs": [],
   "source": [
    "\n",
    "# Scaling the Train and Test feature set \n",
    "from sklearn.preprocessing import StandardScaler\n",
    "scaler = StandardScaler()\n",
    "X_pc = scaler.fit_transform(X)\n"
   ]
  },
  {
   "cell_type": "code",
   "execution_count": 90,
   "metadata": {},
   "outputs": [],
   "source": [
    "#implementing PCA\n",
    "from sklearn.decomposition import PCA\n",
    "pca = PCA(n_components = 19)\n",
    "X_transform = pca.fit_transform(X_pc)"
   ]
  },
  {
   "cell_type": "code",
   "execution_count": 91,
   "metadata": {},
   "outputs": [
    {
     "name": "stdout",
     "output_type": "stream",
     "text": [
      "[0.11340466 0.10096723 0.08570522 0.07538573 0.06604652 0.06041844\n",
      " 0.05623508 0.05538557 0.05216759 0.05061488 0.05010686 0.04723648\n",
      " 0.0447513  0.0406921  0.03306896 0.02914385 0.01912555 0.01020886\n",
      " 0.00933512]\n"
     ]
    }
   ],
   "source": [
    "print(pca.explained_variance_ratio_)"
   ]
  },
  {
   "cell_type": "markdown",
   "metadata": {},
   "source": [
    "# So we can say the significance of the Principle component num 1 to 11 (as they above 5%)"
   ]
  },
  {
   "cell_type": "code",
   "execution_count": 134,
   "metadata": {},
   "outputs": [
    {
     "name": "stdout",
     "output_type": "stream",
     "text": [
      "[0.11340306 0.10096488 0.08570022 0.07538331]\n"
     ]
    }
   ],
   "source": [
    "#implementing PCA\n",
    "from sklearn.decomposition import PCA\n",
    "pca = PCA(n_components = 4)\n",
    "X_transform = pca.fit_transform(X_pc)\n",
    "print(pca.explained_variance_ratio_)"
   ]
  },
  {
   "cell_type": "code",
   "execution_count": 125,
   "metadata": {},
   "outputs": [
    {
     "data": {
      "text/html": [
       "<div>\n",
       "<style scoped>\n",
       "    .dataframe tbody tr th:only-of-type {\n",
       "        vertical-align: middle;\n",
       "    }\n",
       "\n",
       "    .dataframe tbody tr th {\n",
       "        vertical-align: top;\n",
       "    }\n",
       "\n",
       "    .dataframe thead th {\n",
       "        text-align: right;\n",
       "    }\n",
       "</style>\n",
       "<table border=\"1\" class=\"dataframe\">\n",
       "  <thead>\n",
       "    <tr style=\"text-align: right;\">\n",
       "      <th></th>\n",
       "      <th>Date</th>\n",
       "      <th>Day of Week</th>\n",
       "      <th>Time</th>\n",
       "      <th>Lane Count</th>\n",
       "      <th>Crash Type</th>\n",
       "      <th>Functional Class</th>\n",
       "      <th>Speed Limit</th>\n",
       "      <th>Environmental Conditions</th>\n",
       "      <th>Light Conditions</th>\n",
       "      <th>Surface Condition</th>\n",
       "      <th>Total Vehicles Involved</th>\n",
       "      <th>Curve Related</th>\n",
       "      <th>Alcohol Involved</th>\n",
       "      <th>Distracted Driving Involved</th>\n",
       "      <th>Drugged Driver Involved</th>\n",
       "      <th>Older Driver Involved</th>\n",
       "      <th>Temp Traffic Control Zone</th>\n",
       "      <th>Traffic Controls Present</th>\n",
       "      <th>Vehicle Type</th>\n",
       "    </tr>\n",
       "  </thead>\n",
       "  <tbody>\n",
       "    <tr>\n",
       "      <td>PC-1</td>\n",
       "      <td>-0.040211</td>\n",
       "      <td>0.123158</td>\n",
       "      <td>0.483703</td>\n",
       "      <td>0.013843</td>\n",
       "      <td>0.332423</td>\n",
       "      <td>-0.033416</td>\n",
       "      <td>0.105832</td>\n",
       "      <td>-0.284579</td>\n",
       "      <td>0.450132</td>\n",
       "      <td>0.300298</td>\n",
       "      <td>-0.341191</td>\n",
       "      <td>-0.083921</td>\n",
       "      <td>-0.302156</td>\n",
       "      <td>0.046554</td>\n",
       "      <td>-0.142003</td>\n",
       "      <td>0.093793</td>\n",
       "      <td>-0.079125</td>\n",
       "      <td>0.014922</td>\n",
       "      <td>-0.009206</td>\n",
       "    </tr>\n",
       "    <tr>\n",
       "      <td>PC-2</td>\n",
       "      <td>-0.010147</td>\n",
       "      <td>-0.074461</td>\n",
       "      <td>-0.365929</td>\n",
       "      <td>-0.296934</td>\n",
       "      <td>0.184330</td>\n",
       "      <td>-0.054337</td>\n",
       "      <td>-0.251998</td>\n",
       "      <td>-0.454440</td>\n",
       "      <td>-0.390214</td>\n",
       "      <td>0.450790</td>\n",
       "      <td>-0.225364</td>\n",
       "      <td>-0.168340</td>\n",
       "      <td>0.044952</td>\n",
       "      <td>-0.101602</td>\n",
       "      <td>-0.025401</td>\n",
       "      <td>-0.050896</td>\n",
       "      <td>0.071672</td>\n",
       "      <td>-0.042203</td>\n",
       "      <td>0.090703</td>\n",
       "    </tr>\n",
       "  </tbody>\n",
       "</table>\n",
       "</div>"
      ],
      "text/plain": [
       "          Date  Day of Week      Time  Lane Count  Crash Type  \\\n",
       "PC-1 -0.040211     0.123158  0.483703    0.013843    0.332423   \n",
       "PC-2 -0.010147    -0.074461 -0.365929   -0.296934    0.184330   \n",
       "\n",
       "      Functional Class  Speed Limit  Environmental Conditions  \\\n",
       "PC-1         -0.033416     0.105832                 -0.284579   \n",
       "PC-2         -0.054337    -0.251998                 -0.454440   \n",
       "\n",
       "      Light Conditions  Surface Condition  Total Vehicles Involved  \\\n",
       "PC-1          0.450132           0.300298                -0.341191   \n",
       "PC-2         -0.390214           0.450790                -0.225364   \n",
       "\n",
       "      Curve Related  Alcohol Involved  Distracted Driving Involved  \\\n",
       "PC-1      -0.083921         -0.302156                     0.046554   \n",
       "PC-2      -0.168340          0.044952                    -0.101602   \n",
       "\n",
       "      Drugged Driver Involved  Older Driver Involved  \\\n",
       "PC-1                -0.142003               0.093793   \n",
       "PC-2                -0.025401              -0.050896   \n",
       "\n",
       "      Temp Traffic Control Zone  Traffic Controls Present  Vehicle Type  \n",
       "PC-1                  -0.079125                  0.014922     -0.009206  \n",
       "PC-2                   0.071672                 -0.042203      0.090703  "
      ]
     },
     "execution_count": 125,
     "metadata": {},
     "output_type": "execute_result"
    }
   ],
   "source": [
    "pd.DataFrame(pca.components_,columns=my_df2.columns[1:20],index = ['PC-1','PC-2'])"
   ]
  },
  {
   "cell_type": "markdown",
   "metadata": {},
   "source": [
    "# Here is the contribution of every features in the PC. By this we can find the most significant features\n"
   ]
  },
  {
   "cell_type": "markdown",
   "metadata": {},
   "source": [
    "# How we will use this PC for train and test \n"
   ]
  },
  {
   "cell_type": "code",
   "execution_count": 137,
   "metadata": {},
   "outputs": [
    {
     "name": "stdout",
     "output_type": "stream",
     "text": [
      "[0.53041147 0.46958853]\n"
     ]
    }
   ],
   "source": [
    "pca = PCA(n_components = 2) \n",
    "X_train = pca.fit_transform(X_train) \n",
    "X_test = pca.transform(X_test) \n",
    "  \n",
    "explained_variance = pca.explained_variance_ratio_ \n",
    "print(explained_variance)"
   ]
  },
  {
   "cell_type": "code",
   "execution_count": null,
   "metadata": {},
   "outputs": [],
   "source": []
  },
  {
   "cell_type": "code",
   "execution_count": 129,
   "metadata": {},
   "outputs": [
    {
     "name": "stdout",
     "output_type": "stream",
     "text": [
      "Best parameters set found on development set:\n",
      "\n",
      "{'C': 1, 'kernel': 'linear'}\n",
      "Best score for training data: 0.9625 \n",
      "\n",
      "Grid scores on development set:\n",
      "\n",
      "0.963 (+/-0.002) for {'C': 1, 'kernel': 'linear'}\n",
      "0.963 (+/-0.002) for {'C': 10, 'kernel': 'linear'}\n",
      "0.963 (+/-0.002) for {'C': 100, 'kernel': 'linear'}\n",
      "0.963 (+/-0.002) for {'C': 1000, 'kernel': 'linear'}\n",
      "0.963 (+/-0.002) for {'C': 1, 'gamma': 0.001, 'kernel': 'rbf'}\n",
      "0.963 (+/-0.002) for {'C': 1, 'gamma': 0.0001, 'kernel': 'rbf'}\n",
      "0.963 (+/-0.002) for {'C': 10, 'gamma': 0.001, 'kernel': 'rbf'}\n",
      "0.963 (+/-0.002) for {'C': 10, 'gamma': 0.0001, 'kernel': 'rbf'}\n",
      "0.963 (+/-0.002) for {'C': 100, 'gamma': 0.001, 'kernel': 'rbf'}\n",
      "0.963 (+/-0.002) for {'C': 100, 'gamma': 0.0001, 'kernel': 'rbf'}\n",
      "0.963 (+/-0.002) for {'C': 1000, 'gamma': 0.001, 'kernel': 'rbf'}\n",
      "0.963 (+/-0.002) for {'C': 1000, 'gamma': 0.0001, 'kernel': 'rbf'}\n",
      "0.963 (+/-0.002) for {'C': 1, 'degree': 3, 'gamma': 0.001, 'kernel': 'poly'}\n",
      "0.963 (+/-0.002) for {'C': 1, 'degree': 3, 'gamma': 0.0001, 'kernel': 'poly'}\n",
      "0.963 (+/-0.002) for {'C': 1, 'degree': 4, 'gamma': 0.001, 'kernel': 'poly'}\n",
      "0.963 (+/-0.002) for {'C': 1, 'degree': 4, 'gamma': 0.0001, 'kernel': 'poly'}\n",
      "0.963 (+/-0.002) for {'C': 1, 'degree': 5, 'gamma': 0.001, 'kernel': 'poly'}\n",
      "0.963 (+/-0.002) for {'C': 1, 'degree': 5, 'gamma': 0.0001, 'kernel': 'poly'}\n",
      "0.963 (+/-0.002) for {'C': 1, 'degree': 6, 'gamma': 0.001, 'kernel': 'poly'}\n",
      "0.963 (+/-0.002) for {'C': 1, 'degree': 6, 'gamma': 0.0001, 'kernel': 'poly'}\n",
      "0.963 (+/-0.002) for {'C': 1, 'degree': 7, 'gamma': 0.001, 'kernel': 'poly'}\n",
      "0.963 (+/-0.002) for {'C': 1, 'degree': 7, 'gamma': 0.0001, 'kernel': 'poly'}\n",
      "0.963 (+/-0.002) for {'C': 1, 'degree': 8, 'gamma': 0.001, 'kernel': 'poly'}\n",
      "0.963 (+/-0.002) for {'C': 1, 'degree': 8, 'gamma': 0.0001, 'kernel': 'poly'}\n",
      "0.963 (+/-0.002) for {'C': 10, 'degree': 3, 'gamma': 0.001, 'kernel': 'poly'}\n",
      "0.963 (+/-0.002) for {'C': 10, 'degree': 3, 'gamma': 0.0001, 'kernel': 'poly'}\n",
      "0.963 (+/-0.002) for {'C': 10, 'degree': 4, 'gamma': 0.001, 'kernel': 'poly'}\n",
      "0.963 (+/-0.002) for {'C': 10, 'degree': 4, 'gamma': 0.0001, 'kernel': 'poly'}\n",
      "0.963 (+/-0.002) for {'C': 10, 'degree': 5, 'gamma': 0.001, 'kernel': 'poly'}\n",
      "0.963 (+/-0.002) for {'C': 10, 'degree': 5, 'gamma': 0.0001, 'kernel': 'poly'}\n",
      "0.963 (+/-0.002) for {'C': 10, 'degree': 6, 'gamma': 0.001, 'kernel': 'poly'}\n",
      "0.963 (+/-0.002) for {'C': 10, 'degree': 6, 'gamma': 0.0001, 'kernel': 'poly'}\n",
      "0.963 (+/-0.002) for {'C': 10, 'degree': 7, 'gamma': 0.001, 'kernel': 'poly'}\n",
      "0.963 (+/-0.002) for {'C': 10, 'degree': 7, 'gamma': 0.0001, 'kernel': 'poly'}\n",
      "0.963 (+/-0.002) for {'C': 10, 'degree': 8, 'gamma': 0.001, 'kernel': 'poly'}\n",
      "0.963 (+/-0.002) for {'C': 10, 'degree': 8, 'gamma': 0.0001, 'kernel': 'poly'}\n",
      "0.963 (+/-0.002) for {'C': 100, 'degree': 3, 'gamma': 0.001, 'kernel': 'poly'}\n",
      "0.963 (+/-0.002) for {'C': 100, 'degree': 3, 'gamma': 0.0001, 'kernel': 'poly'}\n",
      "0.963 (+/-0.002) for {'C': 100, 'degree': 4, 'gamma': 0.001, 'kernel': 'poly'}\n",
      "0.963 (+/-0.002) for {'C': 100, 'degree': 4, 'gamma': 0.0001, 'kernel': 'poly'}\n",
      "0.963 (+/-0.002) for {'C': 100, 'degree': 5, 'gamma': 0.001, 'kernel': 'poly'}\n",
      "0.963 (+/-0.002) for {'C': 100, 'degree': 5, 'gamma': 0.0001, 'kernel': 'poly'}\n",
      "0.963 (+/-0.002) for {'C': 100, 'degree': 6, 'gamma': 0.001, 'kernel': 'poly'}\n",
      "0.963 (+/-0.002) for {'C': 100, 'degree': 6, 'gamma': 0.0001, 'kernel': 'poly'}\n",
      "0.963 (+/-0.002) for {'C': 100, 'degree': 7, 'gamma': 0.001, 'kernel': 'poly'}\n",
      "0.963 (+/-0.002) for {'C': 100, 'degree': 7, 'gamma': 0.0001, 'kernel': 'poly'}\n",
      "0.963 (+/-0.002) for {'C': 100, 'degree': 8, 'gamma': 0.001, 'kernel': 'poly'}\n",
      "0.963 (+/-0.002) for {'C': 100, 'degree': 8, 'gamma': 0.0001, 'kernel': 'poly'}\n",
      "0.963 (+/-0.002) for {'C': 1000, 'degree': 3, 'gamma': 0.001, 'kernel': 'poly'}\n",
      "0.963 (+/-0.002) for {'C': 1000, 'degree': 3, 'gamma': 0.0001, 'kernel': 'poly'}\n",
      "0.963 (+/-0.002) for {'C': 1000, 'degree': 4, 'gamma': 0.001, 'kernel': 'poly'}\n",
      "0.963 (+/-0.002) for {'C': 1000, 'degree': 4, 'gamma': 0.0001, 'kernel': 'poly'}\n",
      "0.963 (+/-0.002) for {'C': 1000, 'degree': 5, 'gamma': 0.001, 'kernel': 'poly'}\n",
      "0.963 (+/-0.002) for {'C': 1000, 'degree': 5, 'gamma': 0.0001, 'kernel': 'poly'}\n",
      "0.963 (+/-0.002) for {'C': 1000, 'degree': 6, 'gamma': 0.001, 'kernel': 'poly'}\n",
      "0.963 (+/-0.002) for {'C': 1000, 'degree': 6, 'gamma': 0.0001, 'kernel': 'poly'}\n",
      "0.963 (+/-0.002) for {'C': 1000, 'degree': 7, 'gamma': 0.001, 'kernel': 'poly'}\n",
      "0.963 (+/-0.002) for {'C': 1000, 'degree': 7, 'gamma': 0.0001, 'kernel': 'poly'}\n",
      "0.963 (+/-0.002) for {'C': 1000, 'degree': 8, 'gamma': 0.001, 'kernel': 'poly'}\n",
      "0.963 (+/-0.002) for {'C': 1000, 'degree': 8, 'gamma': 0.0001, 'kernel': 'poly'}\n",
      "\n",
      "Detailed classification report:\n",
      "\n",
      "The model is trained on the full development set.\n",
      "The scores are computed on the full evaluation set.\n",
      "\n",
      "              precision    recall  f1-score   support\n",
      "\n",
      "           1       0.00      0.00      0.00         1\n",
      "           2       0.00      0.00      0.00        11\n",
      "           3       0.97      1.00      0.98       388\n",
      "\n",
      "    accuracy                           0.97       400\n",
      "   macro avg       0.32      0.33      0.33       400\n",
      "weighted avg       0.94      0.97      0.96       400\n",
      "\n",
      "\n"
     ]
    }
   ],
   "source": [
    "import warnings\n",
    "warnings.filterwarnings('ignore')\n",
    "# Set the parameters by cross-validation\n",
    "tuned_parameters = [{'kernel': ['linear'], 'C': [1, 10, 100, 1000]},{'kernel': ['rbf'], 'gamma': [1e-3, 1e-4],\n",
    "                     'C': [1, 10, 100, 1000]},{'kernel': ['poly'], 'gamma': [1e-3, 1e-4],'degree':[3,4,5,6,7,8],\n",
    "                     'C': [1, 10, 100, 1000]}\n",
    "                    ]\n",
    "\n",
    "clf = GridSearchCV(SVC(), tuned_parameters, cv=2,\n",
    "                       scoring='accuracy')\n",
    "clf.fit(X_train, y_train)\n",
    "\n",
    "print(\"Best parameters set found on development set:\")\n",
    "print()\n",
    "print(clf.best_params_)\n",
    "print('Best score for training data:', clf.best_score_,\"\\n\")\n",
    "print(\"Grid scores on development set:\")\n",
    "print()\n",
    "means = clf.cv_results_['mean_test_score']\n",
    "stds = clf.cv_results_['std_test_score']\n",
    "for mean, std, params in zip(means, stds, clf.cv_results_['params']):\n",
    "    print(\"%0.3f (+/-%0.03f) for %r\"\n",
    "              % (mean, std * 2, params))\n",
    "print()\n",
    "\n",
    "print(\"Detailed classification report:\")\n",
    "print()\n",
    "print(\"The model is trained on the full development set.\")\n",
    "print(\"The scores are computed on the full evaluation set.\")\n",
    "print()\n",
    "y_true, y_pred = y_test, clf.predict(X_test)\n",
    "print(classification_report(y_true, y_pred))\n",
    "print()\n"
   ]
  },
  {
   "cell_type": "code",
   "execution_count": 130,
   "metadata": {},
   "outputs": [
    {
     "name": "stdout",
     "output_type": "stream",
     "text": [
      "Testing accuracy for best combination  0.97\n"
     ]
    }
   ],
   "source": [
    "from sklearn.metrics import accuracy_score\n",
    "classifier = SVC(kernel='linear',C=1)\n",
    "classifier.fit(X_train, y_train)\n",
    "y_pred = classifier.predict(X_test)\n",
    "accuracy = accuracy_score(y_test,y_pred)\n",
    "print(\"Testing accuracy for best combination \",accuracy)"
   ]
  },
  {
   "cell_type": "code",
   "execution_count": null,
   "metadata": {},
   "outputs": [],
   "source": []
  }
 ],
 "metadata": {
  "accelerator": "GPU",
  "colab": {
   "name": "project_poc_classifier.ipynb",
   "provenance": []
  },
  "kernelspec": {
   "display_name": "Python 3",
   "language": "python",
   "name": "python3"
  },
  "language_info": {
   "codemirror_mode": {
    "name": "ipython",
    "version": 3
   },
   "file_extension": ".py",
   "mimetype": "text/x-python",
   "name": "python",
   "nbconvert_exporter": "python",
   "pygments_lexer": "ipython3",
   "version": "3.7.3"
  }
 },
 "nbformat": 4,
 "nbformat_minor": 1
}
