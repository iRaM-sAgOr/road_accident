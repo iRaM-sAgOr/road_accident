{
 "cells": [
  {
   "cell_type": "code",
   "execution_count": 2,
   "metadata": {
    "colab": {},
    "colab_type": "code",
    "id": "LmGueFIu1UJH"
   },
   "outputs": [],
   "source": [
    "import pandas as pd  \n",
    "import numpy as np\n",
    "import matplotlib.pyplot as plt\n",
    "plt.style.use('fivethirtyeight')\n",
    "\n",
    "%matplotlib inline\n",
    "%config InlineBackend.figure_format = 'retina'\n",
    "from sklearn import preprocessing"
   ]
  },
  {
   "cell_type": "code",
   "execution_count": 3,
   "metadata": {
    "colab": {
     "base_uri": "https://localhost:8080/",
     "height": 275
    },
    "colab_type": "code",
    "executionInfo": {
     "elapsed": 2267,
     "status": "ok",
     "timestamp": 1574792890263,
     "user": {
      "displayName": "ikramulhaq sagor",
      "photoUrl": "https://lh3.googleusercontent.com/a-/AAuE7mBinECFnyTHVgacoSMTL-RPuxB1TFV8SMsqr3FepQ=s64",
      "userId": "05063874681058892168"
     },
     "user_tz": -360
    },
    "id": "eho7O4Xk1cGW",
    "outputId": "3b02fab3-b79f-449e-d35c-efd28892478c"
   },
   "outputs": [
    {
     "data": {
      "text/html": [
       "<div>\n",
       "<style scoped>\n",
       "    .dataframe tbody tr th:only-of-type {\n",
       "        vertical-align: middle;\n",
       "    }\n",
       "\n",
       "    .dataframe tbody tr th {\n",
       "        vertical-align: top;\n",
       "    }\n",
       "\n",
       "    .dataframe thead th {\n",
       "        text-align: right;\n",
       "    }\n",
       "</style>\n",
       "<table border=\"1\" class=\"dataframe\">\n",
       "  <thead>\n",
       "    <tr style=\"text-align: right;\">\n",
       "      <th></th>\n",
       "      <th>Crash ID</th>\n",
       "      <th>Date</th>\n",
       "      <th>Day of Week</th>\n",
       "      <th>Time</th>\n",
       "      <th>Lane Count</th>\n",
       "      <th>Crash Type</th>\n",
       "      <th>Functional Class</th>\n",
       "      <th>Speed Limit</th>\n",
       "      <th>Environmental Conditions</th>\n",
       "      <th>Light Conditions</th>\n",
       "      <th>...</th>\n",
       "      <th>Total Vehicles Involved</th>\n",
       "      <th>Curve Related</th>\n",
       "      <th>Alcohol Involved</th>\n",
       "      <th>Distracted Driving Involved</th>\n",
       "      <th>Drugged Driver Involved</th>\n",
       "      <th>Older Driver Involved</th>\n",
       "      <th>Temp Traffic Control Zone</th>\n",
       "      <th>Traffic Controls Present</th>\n",
       "      <th>Vehicle Type</th>\n",
       "      <th>Severity</th>\n",
       "    </tr>\n",
       "  </thead>\n",
       "  <tbody>\n",
       "    <tr>\n",
       "      <td>0</td>\n",
       "      <td>9969918</td>\n",
       "      <td>4</td>\n",
       "      <td>1</td>\n",
       "      <td>2</td>\n",
       "      <td>3</td>\n",
       "      <td>3</td>\n",
       "      <td>2</td>\n",
       "      <td>4</td>\n",
       "      <td>1</td>\n",
       "      <td>4</td>\n",
       "      <td>...</td>\n",
       "      <td>2</td>\n",
       "      <td>2</td>\n",
       "      <td>2</td>\n",
       "      <td>2</td>\n",
       "      <td>2</td>\n",
       "      <td>1</td>\n",
       "      <td>1</td>\n",
       "      <td>1</td>\n",
       "      <td>1</td>\n",
       "      <td>3</td>\n",
       "    </tr>\n",
       "    <tr>\n",
       "      <td>1</td>\n",
       "      <td>9741036</td>\n",
       "      <td>4</td>\n",
       "      <td>1</td>\n",
       "      <td>1</td>\n",
       "      <td>3</td>\n",
       "      <td>1</td>\n",
       "      <td>2</td>\n",
       "      <td>4</td>\n",
       "      <td>1</td>\n",
       "      <td>4</td>\n",
       "      <td>...</td>\n",
       "      <td>2</td>\n",
       "      <td>1</td>\n",
       "      <td>2</td>\n",
       "      <td>1</td>\n",
       "      <td>2</td>\n",
       "      <td>2</td>\n",
       "      <td>1</td>\n",
       "      <td>1</td>\n",
       "      <td>1</td>\n",
       "      <td>3</td>\n",
       "    </tr>\n",
       "    <tr>\n",
       "      <td>2</td>\n",
       "      <td>9965952</td>\n",
       "      <td>4</td>\n",
       "      <td>1</td>\n",
       "      <td>1</td>\n",
       "      <td>3</td>\n",
       "      <td>1</td>\n",
       "      <td>2</td>\n",
       "      <td>4</td>\n",
       "      <td>1</td>\n",
       "      <td>3</td>\n",
       "      <td>...</td>\n",
       "      <td>2</td>\n",
       "      <td>2</td>\n",
       "      <td>2</td>\n",
       "      <td>1</td>\n",
       "      <td>2</td>\n",
       "      <td>3</td>\n",
       "      <td>1</td>\n",
       "      <td>1</td>\n",
       "      <td>1</td>\n",
       "      <td>3</td>\n",
       "    </tr>\n",
       "    <tr>\n",
       "      <td>3</td>\n",
       "      <td>9705367</td>\n",
       "      <td>4</td>\n",
       "      <td>1</td>\n",
       "      <td>1</td>\n",
       "      <td>2</td>\n",
       "      <td>3</td>\n",
       "      <td>2</td>\n",
       "      <td>1</td>\n",
       "      <td>2</td>\n",
       "      <td>2</td>\n",
       "      <td>...</td>\n",
       "      <td>2</td>\n",
       "      <td>2</td>\n",
       "      <td>2</td>\n",
       "      <td>2</td>\n",
       "      <td>2</td>\n",
       "      <td>2</td>\n",
       "      <td>1</td>\n",
       "      <td>1</td>\n",
       "      <td>3</td>\n",
       "      <td>3</td>\n",
       "    </tr>\n",
       "    <tr>\n",
       "      <td>4</td>\n",
       "      <td>9741034</td>\n",
       "      <td>4</td>\n",
       "      <td>2</td>\n",
       "      <td>1</td>\n",
       "      <td>3</td>\n",
       "      <td>3</td>\n",
       "      <td>2</td>\n",
       "      <td>4</td>\n",
       "      <td>2</td>\n",
       "      <td>4</td>\n",
       "      <td>...</td>\n",
       "      <td>2</td>\n",
       "      <td>2</td>\n",
       "      <td>2</td>\n",
       "      <td>2</td>\n",
       "      <td>2</td>\n",
       "      <td>2</td>\n",
       "      <td>1</td>\n",
       "      <td>1</td>\n",
       "      <td>1</td>\n",
       "      <td>3</td>\n",
       "    </tr>\n",
       "  </tbody>\n",
       "</table>\n",
       "<p>5 rows × 21 columns</p>\n",
       "</div>"
      ],
      "text/plain": [
       "   Crash ID  Date  Day of Week  Time  Lane Count  Crash Type  \\\n",
       "0   9969918     4            1     2           3           3   \n",
       "1   9741036     4            1     1           3           1   \n",
       "2   9965952     4            1     1           3           1   \n",
       "3   9705367     4            1     1           2           3   \n",
       "4   9741034     4            2     1           3           3   \n",
       "\n",
       "   Functional Class  Speed Limit  Environmental Conditions  Light Conditions  \\\n",
       "0                 2            4                         1                 4   \n",
       "1                 2            4                         1                 4   \n",
       "2                 2            4                         1                 3   \n",
       "3                 2            1                         2                 2   \n",
       "4                 2            4                         2                 4   \n",
       "\n",
       "   ...  Total Vehicles Involved  Curve Related  Alcohol Involved  \\\n",
       "0  ...                        2              2                 2   \n",
       "1  ...                        2              1                 2   \n",
       "2  ...                        2              2                 2   \n",
       "3  ...                        2              2                 2   \n",
       "4  ...                        2              2                 2   \n",
       "\n",
       "   Distracted Driving Involved  Drugged Driver Involved  \\\n",
       "0                            2                        2   \n",
       "1                            1                        2   \n",
       "2                            1                        2   \n",
       "3                            2                        2   \n",
       "4                            2                        2   \n",
       "\n",
       "   Older Driver Involved  Temp Traffic Control Zone  Traffic Controls Present  \\\n",
       "0                      1                          1                         1   \n",
       "1                      2                          1                         1   \n",
       "2                      3                          1                         1   \n",
       "3                      2                          1                         1   \n",
       "4                      2                          1                         1   \n",
       "\n",
       "   Vehicle Type  Severity  \n",
       "0             1         3  \n",
       "1             1         3  \n",
       "2             1         3  \n",
       "3             3         3  \n",
       "4             1         3  \n",
       "\n",
       "[5 rows x 21 columns]"
      ]
     },
     "execution_count": 3,
     "metadata": {},
     "output_type": "execute_result"
    }
   ],
   "source": [
    "csv = 'Crash_Data.csv'\n",
    "my_df = pd.read_csv(csv)\n",
    "my_df.head()\n"
   ]
  },
  {
   "cell_type": "code",
   "execution_count": 5,
   "metadata": {
    "colab": {
     "base_uri": "https://localhost:8080/",
     "height": 34
    },
    "colab_type": "code",
    "executionInfo": {
     "elapsed": 1041,
     "status": "ok",
     "timestamp": 1574794366448,
     "user": {
      "displayName": "ikramulhaq sagor",
      "photoUrl": "https://lh3.googleusercontent.com/a-/AAuE7mBinECFnyTHVgacoSMTL-RPuxB1TFV8SMsqr3FepQ=s64",
      "userId": "05063874681058892168"
     },
     "user_tz": -360
    },
    "id": "Ccog1FQZDvpe",
    "outputId": "844fea3f-e795-426f-e520-a5b474aa25e1"
   },
   "outputs": [
    {
     "data": {
      "text/plain": [
       "8232"
      ]
     },
     "execution_count": 5,
     "metadata": {},
     "output_type": "execute_result"
    }
   ],
   "source": [
    "my_df['Severity'].isnull().sum()\n",
    "len(my_df['Severity'])"
   ]
  },
  {
   "cell_type": "code",
   "execution_count": 6,
   "metadata": {
    "colab": {
     "base_uri": "https://localhost:8080/",
     "height": 173
    },
    "colab_type": "code",
    "executionInfo": {
     "elapsed": 1172,
     "status": "ok",
     "timestamp": 1574794385502,
     "user": {
      "displayName": "ikramulhaq sagor",
      "photoUrl": "https://lh3.googleusercontent.com/a-/AAuE7mBinECFnyTHVgacoSMTL-RPuxB1TFV8SMsqr3FepQ=s64",
      "userId": "05063874681058892168"
     },
     "user_tz": -360
    },
    "id": "FNMijSHDD0jH",
    "outputId": "4089b1f9-e023-4cf4-98b5-bd2d05e19a53"
   },
   "outputs": [
    {
     "data": {
      "text/html": [
       "<div>\n",
       "<style scoped>\n",
       "    .dataframe tbody tr th:only-of-type {\n",
       "        vertical-align: middle;\n",
       "    }\n",
       "\n",
       "    .dataframe tbody tr th {\n",
       "        vertical-align: top;\n",
       "    }\n",
       "\n",
       "    .dataframe thead th {\n",
       "        text-align: right;\n",
       "    }\n",
       "</style>\n",
       "<table border=\"1\" class=\"dataframe\">\n",
       "  <thead>\n",
       "    <tr style=\"text-align: right;\">\n",
       "      <th>col_0</th>\n",
       "      <th>count</th>\n",
       "    </tr>\n",
       "    <tr>\n",
       "      <th>Severity</th>\n",
       "      <th></th>\n",
       "    </tr>\n",
       "  </thead>\n",
       "  <tbody>\n",
       "    <tr>\n",
       "      <td>1</td>\n",
       "      <td>13</td>\n",
       "    </tr>\n",
       "    <tr>\n",
       "      <td>2</td>\n",
       "      <td>254</td>\n",
       "    </tr>\n",
       "    <tr>\n",
       "      <td>3</td>\n",
       "      <td>7965</td>\n",
       "    </tr>\n",
       "  </tbody>\n",
       "</table>\n",
       "</div>"
      ],
      "text/plain": [
       "col_0     count\n",
       "Severity       \n",
       "1            13\n",
       "2           254\n",
       "3          7965"
      ]
     },
     "execution_count": 6,
     "metadata": {},
     "output_type": "execute_result"
    }
   ],
   "source": [
    "#Frequency distribution of classes\"\n",
    "train_outcome = pd.crosstab(index=my_df[\"Severity\"],  # Make a crosstab\n",
    "                              columns=\"count\")      # Name the count column\n",
    "\n",
    "train_outcome"
   ]
  },
  {
   "cell_type": "code",
   "execution_count": 7,
   "metadata": {
    "colab": {},
    "colab_type": "code",
    "id": "AjpuMCsqD5ft"
   },
   "outputs": [],
   "source": [
    "X = my_df.iloc[:,1:-1].values\n",
    "y = my_df.iloc[:,20].values"
   ]
  },
  {
   "cell_type": "code",
   "execution_count": 8,
   "metadata": {
    "colab": {},
    "colab_type": "code",
    "id": "0plEkq_BDPLi"
   },
   "outputs": [],
   "source": [
    "from sklearn.model_selection import train_test_split\n",
    "X_train, X_test, y_train, y_test = train_test_split(X, y, test_size = 0.2, random_state = 0)"
   ]
  },
  {
   "cell_type": "code",
   "execution_count": 9,
   "metadata": {
    "colab": {
     "base_uri": "https://localhost:8080/",
     "height": 173
    },
    "colab_type": "code",
    "executionInfo": {
     "elapsed": 1416,
     "status": "ok",
     "timestamp": 1574794539096,
     "user": {
      "displayName": "ikramulhaq sagor",
      "photoUrl": "https://lh3.googleusercontent.com/a-/AAuE7mBinECFnyTHVgacoSMTL-RPuxB1TFV8SMsqr3FepQ=s64",
      "userId": "05063874681058892168"
     },
     "user_tz": -360
    },
    "id": "GXdYUQrpEKdG",
    "outputId": "94c87d49-16ea-406b-9b52-42a785508ae0"
   },
   "outputs": [
    {
     "data": {
      "text/html": [
       "<div>\n",
       "<style scoped>\n",
       "    .dataframe tbody tr th:only-of-type {\n",
       "        vertical-align: middle;\n",
       "    }\n",
       "\n",
       "    .dataframe tbody tr th {\n",
       "        vertical-align: top;\n",
       "    }\n",
       "\n",
       "    .dataframe thead th {\n",
       "        text-align: right;\n",
       "    }\n",
       "</style>\n",
       "<table border=\"1\" class=\"dataframe\">\n",
       "  <thead>\n",
       "    <tr style=\"text-align: right;\">\n",
       "      <th>col_0</th>\n",
       "      <th>count</th>\n",
       "    </tr>\n",
       "    <tr>\n",
       "      <th>row_0</th>\n",
       "      <th></th>\n",
       "    </tr>\n",
       "  </thead>\n",
       "  <tbody>\n",
       "    <tr>\n",
       "      <td>1</td>\n",
       "      <td>9</td>\n",
       "    </tr>\n",
       "    <tr>\n",
       "      <td>2</td>\n",
       "      <td>200</td>\n",
       "    </tr>\n",
       "    <tr>\n",
       "      <td>3</td>\n",
       "      <td>6376</td>\n",
       "    </tr>\n",
       "  </tbody>\n",
       "</table>\n",
       "</div>"
      ],
      "text/plain": [
       "col_0  count\n",
       "row_0       \n",
       "1          9\n",
       "2        200\n",
       "3       6376"
      ]
     },
     "execution_count": 9,
     "metadata": {},
     "output_type": "execute_result"
    }
   ],
   "source": [
    "#Frequency distribution of classes\"\n",
    "y_train_outcome = pd.crosstab(index=y_train,  # Make a crosstab\n",
    "                              columns=\"count\")      # Name the count column\n",
    "\n",
    "y_train_outcome"
   ]
  },
  {
   "cell_type": "code",
   "execution_count": 10,
   "metadata": {
    "colab": {
     "base_uri": "https://localhost:8080/",
     "height": 34
    },
    "colab_type": "code",
    "executionInfo": {
     "elapsed": 1121,
     "status": "ok",
     "timestamp": 1574794694435,
     "user": {
      "displayName": "ikramulhaq sagor",
      "photoUrl": "https://lh3.googleusercontent.com/a-/AAuE7mBinECFnyTHVgacoSMTL-RPuxB1TFV8SMsqr3FepQ=s64",
      "userId": "05063874681058892168"
     },
     "user_tz": -360
    },
    "id": "fT-mfCcs65N1",
    "outputId": "826da544-7218-46dc-fc21-a649366644d0"
   },
   "outputs": [
    {
     "name": "stdout",
     "output_type": "stream",
     "text": [
      "6585 1647 6585 1647\n"
     ]
    }
   ],
   "source": [
    "from sklearn.preprocessing import StandardScaler\n",
    "scaler_train = StandardScaler()\n",
    "scaler_train.fit(X_train)\n",
    "X_train = scaler_train.transform(X_train)\n",
    "# print(X_train)\n",
    "X_test = scaler_train.transform(X_test)\n",
    "# print(X_test)\n",
    "\n",
    "print(len(X_train),len(X_test),len(y_train),len(y_test))"
   ]
  },
  {
   "cell_type": "code",
   "execution_count": 11,
   "metadata": {
    "colab": {
     "base_uri": "https://localhost:8080/",
     "height": 102
    },
    "colab_type": "code",
    "executionInfo": {
     "elapsed": 3304,
     "status": "ok",
     "timestamp": 1574794702320,
     "user": {
      "displayName": "ikramulhaq sagor",
      "photoUrl": "https://lh3.googleusercontent.com/a-/AAuE7mBinECFnyTHVgacoSMTL-RPuxB1TFV8SMsqr3FepQ=s64",
      "userId": "05063874681058892168"
     },
     "user_tz": -360
    },
    "id": "XZ6a3tEFF-qf",
    "outputId": "b276e041-9537-41cd-a205-bf29749db6fd"
   },
   "outputs": [
    {
     "name": "stdout",
     "output_type": "stream",
     "text": [
      "Accuracy for the value of k = 1  is  0.9398907103825137\n",
      "Accuracy for the value of k = 3  is  0.9599271402550091\n",
      "Accuracy for the value of k = 5  is  0.9641772920461446\n",
      "Accuracy for the value of k = 7  is  0.9647844565877353\n",
      "Accuracy for the value of k = 9  is  0.9647844565877353\n"
     ]
    }
   ],
   "source": [
    "#this is the answer for 'c' from the task one.\n",
    "from sklearn.neighbors import KNeighborsClassifier\n",
    "from sklearn import metrics\n",
    "accuracy_without_validation = []\n",
    "for i in range(1,10,2):\n",
    "  classifier = KNeighborsClassifier(n_neighbors=i)\n",
    "  classifier.fit(X_train, y_train)\n",
    "  y_pred = classifier.predict(X_test)\n",
    "  accuracy_without_validation.append(metrics.accuracy_score(y_test, y_pred))\n",
    "  print(\"Accuracy for the value of k =\",i ,\" is \",metrics.accuracy_score(y_test, y_pred))"
   ]
  },
  {
   "cell_type": "code",
   "execution_count": 12,
   "metadata": {
    "colab": {
     "base_uri": "https://localhost:8080/",
     "height": 294
    },
    "colab_type": "code",
    "executionInfo": {
     "elapsed": 1544,
     "status": "ok",
     "timestamp": 1574794706619,
     "user": {
      "displayName": "ikramulhaq sagor",
      "photoUrl": "https://lh3.googleusercontent.com/a-/AAuE7mBinECFnyTHVgacoSMTL-RPuxB1TFV8SMsqr3FepQ=s64",
      "userId": "05063874681058892168"
     },
     "user_tz": -360
    },
    "id": "w8Eeln5J6i09",
    "outputId": "0349e275-420b-470c-aafe-46ea9e8fea66"
   },
   "outputs": [
    {
     "data": {
      "image/png": "[encoded data removed]",
      "text/plain": [
       "<Figure size 432x288 with 1 Axes>"
      ]
     },
     "metadata": {
      "image/png": {
       "height": 277,
       "width": 648
      },
      "needs_background": "light"
     },
     "output_type": "display_data"
    }
   ],
   "source": [
    "from sklearn import metrics\n",
    "plt.plot(range(1,10,2), accuracy_without_validation)\n",
    "plt.xlabel('Value of K')\n",
    "plt.ylabel('Accuracy with K')\n",
    "plt.title('Accuracy for 5 data in every class with out cross validation for every K(for the que of C)')\n",
    "plt.show()"
   ]
  },
  {
   "cell_type": "code",
   "execution_count": 13,
   "metadata": {
    "colab": {
     "base_uri": "https://localhost:8080/",
     "height": 34
    },
    "colab_type": "code",
    "executionInfo": {
     "elapsed": 1266,
     "status": "ok",
     "timestamp": 1574795232785,
     "user": {
      "displayName": "ikramulhaq sagor",
      "photoUrl": "https://lh3.googleusercontent.com/a-/AAuE7mBinECFnyTHVgacoSMTL-RPuxB1TFV8SMsqr3FepQ=s64",
      "userId": "05063874681058892168"
     },
     "user_tz": -360
    },
    "id": "rZGAWc8mp-YK",
    "outputId": "e6faf4cf-c8e6-4eb8-d5a1-75fa0f0e6d3e"
   },
   "outputs": [
    {
     "name": "stdout",
     "output_type": "stream",
     "text": [
      "<class 'numpy.ndarray'> 1647 6585 1647\n"
     ]
    }
   ],
   "source": [
    "print(type(X_train),len(X_test),len(y_train),len(y_test))\n"
   ]
  },
  {
   "cell_type": "code",
   "execution_count": null,
   "metadata": {
    "colab": {
     "base_uri": "https://localhost:8080/",
     "height": 1000
    },
    "colab_type": "code",
    "executionInfo": {
     "elapsed": 1607347,
     "status": "ok",
     "timestamp": 1574797002221,
     "user": {
      "displayName": "ikramulhaq sagor",
      "photoUrl": "https://lh3.googleusercontent.com/a-/AAuE7mBinECFnyTHVgacoSMTL-RPuxB1TFV8SMsqr3FepQ=s64",
      "userId": "05063874681058892168"
     },
     "user_tz": -360
    },
    "id": "kz1kCJp1nkw8",
    "outputId": "275b354a-acd4-452f-f8eb-d2f3863cf0f3"
   },
   "outputs": [],
   "source": [
    "#this is the answer of 'b' from the task one..\n",
    "from sklearn.model_selection import LeaveOneOut\n",
    "loo = LeaveOneOut()\n",
    "X_total = X_train\n",
    "y_total = y_train\n",
    "# print(X_total.shape,y_train.shape,y_test.shape,y_total.shape)\n",
    "result_with_k = []\n",
    "for i in range(1,10,2):\n",
    "  accuracy =0\n",
    "  for train, test in loo.split(X_total):\n",
    "    X_train_new , X_test_new = X_total[train],X_total[test]\n",
    "    y_train_new , y_test_new = y_total[train],y_total[test]\n",
    "    # print(X_train_new.shape,X_test_new.shape, y_train_new.shape,y_test_new.shape)\n",
    "    classifier_new = KNeighborsClassifier(n_neighbors=i)\n",
    "    classifier.fit(X_train_new, y_train_new)\n",
    "    y_pred_new = classifier.predict(X_test_new)\n",
    "    result = metrics.accuracy_score(y_test_new, y_pred_new)\n",
    "    accuracy+=result\n",
    "  result_with_k.append(accuracy/len(X_total))\n",
    "  print(\"Accuracy for k = \",i,\"is = \",accuracy/len(X_total))"
   ]
  },
  {
   "cell_type": "markdown",
   "metadata": {
    "colab_type": "text",
    "id": "WoqwlnEu5RSA"
   },
   "source": [
    "# So we can say if we use cross validation the impact of k is equal.....\n"
   ]
  },
  {
   "cell_type": "code",
   "execution_count": 0,
   "metadata": {
    "colab": {
     "base_uri": "https://localhost:8080/",
     "height": 294
    },
    "colab_type": "code",
    "executionInfo": {
     "elapsed": 1567,
     "status": "ok",
     "timestamp": 1574798240843,
     "user": {
      "displayName": "ikramulhaq sagor",
      "photoUrl": "https://lh3.googleusercontent.com/a-/AAuE7mBinECFnyTHVgacoSMTL-RPuxB1TFV8SMsqr3FepQ=s64",
      "userId": "05063874681058892168"
     },
     "user_tz": -360
    },
    "id": "q_P0oF6eoqht",
    "outputId": "b15001bc-3c4f-415b-9d40-1386fc111327"
   },
   "outputs": [
    {
     "data": {
      "image/png": "[encoded data removed]",
      "text/plain": [
       "<Figure size 432x288 with 1 Axes>"
      ]
     },
     "metadata": {
      "image/png": {
       "height": 277,
       "width": 457
      },
      "tags": []
     },
     "output_type": "display_data"
    }
   ],
   "source": [
    "from sklearn import metrics\n",
    "\n",
    "plt.plot(range(1,10,2), result_with_k)\n",
    "plt.xlabel('Value of K')\n",
    "plt.ylabel('Accuracy with K')\n",
    "plt.title('Accuracy with cross validation for every K(for the que of B)')\n",
    "plt.show()"
   ]
  },
  {
   "cell_type": "markdown",
   "metadata": {
    "colab_type": "text",
    "id": "kG4SAS0b8ABg"
   },
   "source": [
    "# Based on LOOCV performance evaluation in (b), which k performs the best? Does it correspond to the testing error?\n",
    "No it doesn't correspond to the testing error.as it remains constant accuracy..\n"
   ]
  },
  {
   "cell_type": "markdown",
   "metadata": {
    "colab_type": "text",
    "id": "XYEZIYYv8WTI"
   },
   "source": [
    "# And the last que's ans is when we use cross validation every K can give us the same accuracy and with out cross validation only with the 5 data of every calss the accuracy has differneces..as we know the elbow method the most reliable k is 5 and we have the same here..have max accuracy for k =5"
   ]
  },
  {
   "cell_type": "code",
   "execution_count": 0,
   "metadata": {
    "colab": {},
    "colab_type": "code",
    "id": "UWhVF_aI6LPK"
   },
   "outputs": [],
   "source": []
  }
 ],
 "metadata": {
  "colab": {
   "name": "Using_KNN_A.ipynb",
   "provenance": []
  },
  "kernelspec": {
   "display_name": "Python 3",
   "language": "python",
   "name": "python3"
  },
  "language_info": {
   "codemirror_mode": {
    "name": "ipython",
    "version": 3
   },
   "file_extension": ".py",
   "mimetype": "text/x-python",
   "name": "python",
   "nbconvert_exporter": "python",
   "pygments_lexer": "ipython3",
   "version": "3.7.3"
  }
 },
 "nbformat": 4,
 "nbformat_minor": 1
}
