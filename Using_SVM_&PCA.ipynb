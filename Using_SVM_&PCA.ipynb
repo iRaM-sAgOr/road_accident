{
 "cells": [
  {
   "cell_type": "code",
   "execution_count": 1,
   "metadata": {
    "colab": {},
    "colab_type": "code",
    "id": "gJ51smu_fYf_"
   },
   "outputs": [],
   "source": [
    "import pandas as pd  \n",
    "import numpy as np\n",
    "import matplotlib.pyplot as plt\n",
    "plt.style.use('fivethirtyeight')\n",
    "\n",
    "%matplotlib inline\n",
    "%config InlineBackend.figure_format = 'retina'\n",
    "from sklearn import preprocessing\n"
   ]
  },
  {
   "cell_type": "code",
   "execution_count": 2,
   "metadata": {
    "colab": {
     "base_uri": "https://localhost:8080/",
     "height": 275
    },
    "colab_type": "code",
    "executionInfo": {
     "elapsed": 1785,
     "status": "ok",
     "timestamp": 1574705304795,
     "user": {
      "displayName": "ikramulhaq sagor",
      "photoUrl": "https://lh3.googleusercontent.com/a-/AAuE7mBinECFnyTHVgacoSMTL-RPuxB1TFV8SMsqr3FepQ=s64",
      "userId": "05063874681058892168"
     },
     "user_tz": -360
    },
    "id": "9W7nSUFNfoos",
    "outputId": "077ffe70-d6ea-4ba8-cb6d-a83135aff434"
   },
   "outputs": [
    {
     "data": {
      "text/html": [
       "<div>\n",
       "<style scoped>\n",
       "    .dataframe tbody tr th:only-of-type {\n",
       "        vertical-align: middle;\n",
       "    }\n",
       "\n",
       "    .dataframe tbody tr th {\n",
       "        vertical-align: top;\n",
       "    }\n",
       "\n",
       "    .dataframe thead th {\n",
       "        text-align: right;\n",
       "    }\n",
       "</style>\n",
       "<table border=\"1\" class=\"dataframe\">\n",
       "  <thead>\n",
       "    <tr style=\"text-align: right;\">\n",
       "      <th></th>\n",
       "      <th>Crash ID</th>\n",
       "      <th>Date</th>\n",
       "      <th>Day of Week</th>\n",
       "      <th>Time</th>\n",
       "      <th>Lane Count</th>\n",
       "      <th>Crash Type</th>\n",
       "      <th>Functional Class</th>\n",
       "      <th>Speed Limit</th>\n",
       "      <th>Environmental Conditions</th>\n",
       "      <th>Light Conditions</th>\n",
       "      <th>...</th>\n",
       "      <th>Total Vehicles Involved</th>\n",
       "      <th>Curve Related</th>\n",
       "      <th>Alcohol Involved</th>\n",
       "      <th>Distracted Driving Involved</th>\n",
       "      <th>Drugged Driver Involved</th>\n",
       "      <th>Older Driver Involved</th>\n",
       "      <th>Temp Traffic Control Zone</th>\n",
       "      <th>Traffic Controls Present</th>\n",
       "      <th>Vehicle Type</th>\n",
       "      <th>Severity</th>\n",
       "    </tr>\n",
       "  </thead>\n",
       "  <tbody>\n",
       "    <tr>\n",
       "      <td>0</td>\n",
       "      <td>9969918</td>\n",
       "      <td>4</td>\n",
       "      <td>1</td>\n",
       "      <td>2</td>\n",
       "      <td>3</td>\n",
       "      <td>3</td>\n",
       "      <td>2</td>\n",
       "      <td>4</td>\n",
       "      <td>1</td>\n",
       "      <td>4</td>\n",
       "      <td>...</td>\n",
       "      <td>2</td>\n",
       "      <td>2</td>\n",
       "      <td>2</td>\n",
       "      <td>2</td>\n",
       "      <td>2</td>\n",
       "      <td>1</td>\n",
       "      <td>1</td>\n",
       "      <td>1</td>\n",
       "      <td>1</td>\n",
       "      <td>3</td>\n",
       "    </tr>\n",
       "    <tr>\n",
       "      <td>1</td>\n",
       "      <td>9741036</td>\n",
       "      <td>4</td>\n",
       "      <td>1</td>\n",
       "      <td>1</td>\n",
       "      <td>3</td>\n",
       "      <td>1</td>\n",
       "      <td>2</td>\n",
       "      <td>4</td>\n",
       "      <td>1</td>\n",
       "      <td>4</td>\n",
       "      <td>...</td>\n",
       "      <td>2</td>\n",
       "      <td>1</td>\n",
       "      <td>2</td>\n",
       "      <td>1</td>\n",
       "      <td>2</td>\n",
       "      <td>2</td>\n",
       "      <td>1</td>\n",
       "      <td>1</td>\n",
       "      <td>1</td>\n",
       "      <td>3</td>\n",
       "    </tr>\n",
       "    <tr>\n",
       "      <td>2</td>\n",
       "      <td>9965952</td>\n",
       "      <td>4</td>\n",
       "      <td>1</td>\n",
       "      <td>1</td>\n",
       "      <td>3</td>\n",
       "      <td>1</td>\n",
       "      <td>2</td>\n",
       "      <td>4</td>\n",
       "      <td>1</td>\n",
       "      <td>3</td>\n",
       "      <td>...</td>\n",
       "      <td>2</td>\n",
       "      <td>2</td>\n",
       "      <td>2</td>\n",
       "      <td>1</td>\n",
       "      <td>2</td>\n",
       "      <td>3</td>\n",
       "      <td>1</td>\n",
       "      <td>1</td>\n",
       "      <td>1</td>\n",
       "      <td>3</td>\n",
       "    </tr>\n",
       "    <tr>\n",
       "      <td>3</td>\n",
       "      <td>9705367</td>\n",
       "      <td>4</td>\n",
       "      <td>1</td>\n",
       "      <td>1</td>\n",
       "      <td>2</td>\n",
       "      <td>3</td>\n",
       "      <td>2</td>\n",
       "      <td>1</td>\n",
       "      <td>2</td>\n",
       "      <td>2</td>\n",
       "      <td>...</td>\n",
       "      <td>2</td>\n",
       "      <td>2</td>\n",
       "      <td>2</td>\n",
       "      <td>2</td>\n",
       "      <td>2</td>\n",
       "      <td>2</td>\n",
       "      <td>1</td>\n",
       "      <td>1</td>\n",
       "      <td>3</td>\n",
       "      <td>3</td>\n",
       "    </tr>\n",
       "    <tr>\n",
       "      <td>4</td>\n",
       "      <td>9741034</td>\n",
       "      <td>4</td>\n",
       "      <td>2</td>\n",
       "      <td>1</td>\n",
       "      <td>3</td>\n",
       "      <td>3</td>\n",
       "      <td>2</td>\n",
       "      <td>4</td>\n",
       "      <td>2</td>\n",
       "      <td>4</td>\n",
       "      <td>...</td>\n",
       "      <td>2</td>\n",
       "      <td>2</td>\n",
       "      <td>2</td>\n",
       "      <td>2</td>\n",
       "      <td>2</td>\n",
       "      <td>2</td>\n",
       "      <td>1</td>\n",
       "      <td>1</td>\n",
       "      <td>1</td>\n",
       "      <td>3</td>\n",
       "    </tr>\n",
       "  </tbody>\n",
       "</table>\n",
       "<p>5 rows × 21 columns</p>\n",
       "</div>"
      ],
      "text/plain": [
       "   Crash ID  Date  Day of Week  Time  Lane Count  Crash Type  \\\n",
       "0   9969918     4            1     2           3           3   \n",
       "1   9741036     4            1     1           3           1   \n",
       "2   9965952     4            1     1           3           1   \n",
       "3   9705367     4            1     1           2           3   \n",
       "4   9741034     4            2     1           3           3   \n",
       "\n",
       "   Functional Class  Speed Limit  Environmental Conditions  Light Conditions  \\\n",
       "0                 2            4                         1                 4   \n",
       "1                 2            4                         1                 4   \n",
       "2                 2            4                         1                 3   \n",
       "3                 2            1                         2                 2   \n",
       "4                 2            4                         2                 4   \n",
       "\n",
       "   ...  Total Vehicles Involved  Curve Related  Alcohol Involved  \\\n",
       "0  ...                        2              2                 2   \n",
       "1  ...                        2              1                 2   \n",
       "2  ...                        2              2                 2   \n",
       "3  ...                        2              2                 2   \n",
       "4  ...                        2              2                 2   \n",
       "\n",
       "   Distracted Driving Involved  Drugged Driver Involved  \\\n",
       "0                            2                        2   \n",
       "1                            1                        2   \n",
       "2                            1                        2   \n",
       "3                            2                        2   \n",
       "4                            2                        2   \n",
       "\n",
       "   Older Driver Involved  Temp Traffic Control Zone  Traffic Controls Present  \\\n",
       "0                      1                          1                         1   \n",
       "1                      2                          1                         1   \n",
       "2                      3                          1                         1   \n",
       "3                      2                          1                         1   \n",
       "4                      2                          1                         1   \n",
       "\n",
       "   Vehicle Type  Severity  \n",
       "0             1         3  \n",
       "1             1         3  \n",
       "2             1         3  \n",
       "3             3         3  \n",
       "4             1         3  \n",
       "\n",
       "[5 rows x 21 columns]"
      ]
     },
     "execution_count": 2,
     "metadata": {},
     "output_type": "execute_result"
    }
   ],
   "source": [
    "csv = 'Crash_Data.csv'\n",
    "col_Names=[\"Crash ID\",\"Date\",\"Day of Weeky\", \"Time\",\"Lane Count\",\"Median Type\", \"Crash Type\", \"Functional Class\", \n",
    "           \"Speed Limit\",\"Environmental Conditions\",\"Light Conditions\", \"Severity\", \"Surface Condition\", \"Total Vehicles Involved\",\"Curve Related\",\"Alcohol Involved\",\"Distracted Driving Involved\"\n",
    "           ,\"Drugged Driver Involved\",\"Older Driver Involved\"]\n",
    "my_df1 = pd.read_csv(csv,index_col=False)\n",
    "my_df1.head()\n"
   ]
  },
  {
   "cell_type": "code",
   "execution_count": 3,
   "metadata": {
    "colab": {},
    "colab_type": "code",
    "id": "NpCRhxh4tDvZ"
   },
   "outputs": [],
   "source": [
    "my_df = my_df1[6000:8000]"
   ]
  },
  {
   "cell_type": "code",
   "execution_count": 4,
   "metadata": {
    "colab": {
     "base_uri": "https://localhost:8080/",
     "height": 34
    },
    "colab_type": "code",
    "executionInfo": {
     "elapsed": 655,
     "status": "ok",
     "timestamp": 1574705868024,
     "user": {
      "displayName": "ikramulhaq sagor",
      "photoUrl": "https://lh3.googleusercontent.com/a-/AAuE7mBinECFnyTHVgacoSMTL-RPuxB1TFV8SMsqr3FepQ=s64",
      "userId": "05063874681058892168"
     },
     "user_tz": -360
    },
    "id": "ffOtsSywlzqn",
    "outputId": "3f2a3245-474a-4323-c971-2f04239b0db9"
   },
   "outputs": [
    {
     "data": {
      "text/plain": [
       "2000"
      ]
     },
     "execution_count": 4,
     "metadata": {},
     "output_type": "execute_result"
    }
   ],
   "source": [
    "my_df['Severity'].isnull().sum()\n",
    "len(my_df['Severity'])"
   ]
  },
  {
   "cell_type": "markdown",
   "metadata": {
    "colab_type": "text",
    "id": "f0ZN3nqooUNL"
   },
   "source": [
    "# **There is no missing value in the dataframe**"
   ]
  },
  {
   "cell_type": "code",
   "execution_count": 5,
   "metadata": {
    "colab": {
     "base_uri": "https://localhost:8080/",
     "height": 173
    },
    "colab_type": "code",
    "executionInfo": {
     "elapsed": 1102,
     "status": "ok",
     "timestamp": 1574705871126,
     "user": {
      "displayName": "ikramulhaq sagor",
      "photoUrl": "https://lh3.googleusercontent.com/a-/AAuE7mBinECFnyTHVgacoSMTL-RPuxB1TFV8SMsqr3FepQ=s64",
      "userId": "05063874681058892168"
     },
     "user_tz": -360
    },
    "id": "6euTyOv-kH6_",
    "outputId": "e5234cdd-8f61-43a3-b907-dc8a0f63b57a"
   },
   "outputs": [
    {
     "data": {
      "text/html": [
       "<div>\n",
       "<style scoped>\n",
       "    .dataframe tbody tr th:only-of-type {\n",
       "        vertical-align: middle;\n",
       "    }\n",
       "\n",
       "    .dataframe tbody tr th {\n",
       "        vertical-align: top;\n",
       "    }\n",
       "\n",
       "    .dataframe thead th {\n",
       "        text-align: right;\n",
       "    }\n",
       "</style>\n",
       "<table border=\"1\" class=\"dataframe\">\n",
       "  <thead>\n",
       "    <tr style=\"text-align: right;\">\n",
       "      <th>col_0</th>\n",
       "      <th>count</th>\n",
       "    </tr>\n",
       "    <tr>\n",
       "      <th>Severity</th>\n",
       "      <th></th>\n",
       "    </tr>\n",
       "  </thead>\n",
       "  <tbody>\n",
       "    <tr>\n",
       "      <td>1</td>\n",
       "      <td>6</td>\n",
       "    </tr>\n",
       "    <tr>\n",
       "      <td>2</td>\n",
       "      <td>66</td>\n",
       "    </tr>\n",
       "    <tr>\n",
       "      <td>3</td>\n",
       "      <td>1928</td>\n",
       "    </tr>\n",
       "  </tbody>\n",
       "</table>\n",
       "</div>"
      ],
      "text/plain": [
       "col_0     count\n",
       "Severity       \n",
       "1             6\n",
       "2            66\n",
       "3          1928"
      ]
     },
     "execution_count": 5,
     "metadata": {},
     "output_type": "execute_result"
    }
   ],
   "source": [
    "#Frequency distribution of classes\"\n",
    "train_outcome = pd.crosstab(index=my_df[\"Severity\"],  # Make a crosstab\n",
    "                              columns=\"count\")      # Name the count column\n",
    "\n",
    "train_outcome"
   ]
  },
  {
   "cell_type": "code",
   "execution_count": 6,
   "metadata": {
    "colab": {
     "base_uri": "https://localhost:8080/",
     "height": 297
    },
    "colab_type": "code",
    "executionInfo": {
     "elapsed": 1471,
     "status": "ok",
     "timestamp": 1574705875141,
     "user": {
      "displayName": "ikramulhaq sagor",
      "photoUrl": "https://lh3.googleusercontent.com/a-/AAuE7mBinECFnyTHVgacoSMTL-RPuxB1TFV8SMsqr3FepQ=s64",
      "userId": "05063874681058892168"
     },
     "user_tz": -360
    },
    "id": "H3_HUgXDsI3h",
    "outputId": "3bf3ae0d-7e16-4748-cf20-9b084eb05b71"
   },
   "outputs": [
    {
     "data": {
      "image/png": "[encoded data removed]",
      "text/plain": [
       "<Figure size 432x288 with 1 Axes>"
      ]
     },
     "metadata": {
      "image/png": {
       "height": 280,
       "width": 424
      }
     },
     "output_type": "display_data"
    }
   ],
   "source": [
    "# Visualizing Outcome Distribution \n",
    "temp = my_df[\"Severity\"].value_counts()\n",
    "# print(temp.values)\n",
    "df = pd.DataFrame({'labels': temp.index,\n",
    "                   'values': temp.values\n",
    "                  })\n",
    "\n",
    "labels = df['labels']\n",
    "sizes = df['values']\n",
    "colors = ['lightcoral','cyan','black']\n",
    "patches, texts = plt.pie(sizes, colors=colors, shadow=True, startangle=70, pctdistance=1.1, labeldistance=1.2)\n",
    "plt.legend(patches, labels, loc=\"best\")\n",
    "plt.axis('equal')\n",
    "plt.tight_layout()\n",
    "plt.show()"
   ]
  },
  {
   "cell_type": "code",
   "execution_count": 7,
   "metadata": {
    "colab": {},
    "colab_type": "code",
    "id": "qFQygXU2t-1M"
   },
   "outputs": [],
   "source": [
    "X = my_df.iloc[:,1:-1].values\n",
    "y = my_df.iloc[:,20].values"
   ]
  },
  {
   "cell_type": "code",
   "execution_count": 8,
   "metadata": {
    "colab": {
     "base_uri": "https://localhost:8080/",
     "height": 51
    },
    "colab_type": "code",
    "executionInfo": {
     "elapsed": 842,
     "status": "ok",
     "timestamp": 1574705878434,
     "user": {
      "displayName": "ikramulhaq sagor",
      "photoUrl": "https://lh3.googleusercontent.com/a-/AAuE7mBinECFnyTHVgacoSMTL-RPuxB1TFV8SMsqr3FepQ=s64",
      "userId": "05063874681058892168"
     },
     "user_tz": -360
    },
    "id": "UbFu4UntuCtN",
    "outputId": "2f8dd8a1-5b5d-4fd3-b1a5-771fa36fff90"
   },
   "outputs": [
    {
     "name": "stdout",
     "output_type": "stream",
     "text": [
      "(2000, 19) (2000,)\n",
      "[3 3 3 3 3 3 3 3 3 3]\n"
     ]
    }
   ],
   "source": [
    "print(X.shape,y.shape)\n",
    "print(y[0:10])"
   ]
  },
  {
   "cell_type": "code",
   "execution_count": 9,
   "metadata": {
    "colab": {},
    "colab_type": "code",
    "id": "umJTrLIvnUIr"
   },
   "outputs": [],
   "source": [
    "from sklearn.model_selection import train_test_split\n",
    "X_train, X_test, y_train, y_test = train_test_split(X, y, test_size = 0.2, random_state = 0)"
   ]
  },
  {
   "cell_type": "code",
   "execution_count": 10,
   "metadata": {
    "colab": {
     "base_uri": "https://localhost:8080/",
     "height": 34
    },
    "colab_type": "code",
    "executionInfo": {
     "elapsed": 1193,
     "status": "ok",
     "timestamp": 1574705882635,
     "user": {
      "displayName": "ikramulhaq sagor",
      "photoUrl": "https://lh3.googleusercontent.com/a-/AAuE7mBinECFnyTHVgacoSMTL-RPuxB1TFV8SMsqr3FepQ=s64",
      "userId": "05063874681058892168"
     },
     "user_tz": -360
    },
    "id": "cuRGUWNQuO4Z",
    "outputId": "64b9450b-73d0-4948-8c61-9a98e7b59944"
   },
   "outputs": [
    {
     "name": "stdout",
     "output_type": "stream",
     "text": [
      "1600 1600 400 400\n"
     ]
    }
   ],
   "source": [
    "print(len(X_train),len(y_train),len(X_test),len(y_test))"
   ]
  },
  {
   "cell_type": "code",
   "execution_count": 11,
   "metadata": {
    "colab": {},
    "colab_type": "code",
    "id": "mxU6gKHVuWgP"
   },
   "outputs": [],
   "source": [
    "# Scaling the Train and Test feature set \n",
    "from sklearn.preprocessing import StandardScaler\n",
    "scaler = StandardScaler()\n",
    "X_train = scaler.fit_transform(X_train)\n",
    "X_test = scaler.transform(X_test)"
   ]
  },
  {
   "cell_type": "code",
   "execution_count": 12,
   "metadata": {
    "colab": {
     "base_uri": "https://localhost:8080/",
     "height": 85
    },
    "colab_type": "code",
    "executionInfo": {
     "elapsed": 1369,
     "status": "ok",
     "timestamp": 1574705887091,
     "user": {
      "displayName": "ikramulhaq sagor",
      "photoUrl": "https://lh3.googleusercontent.com/a-/AAuE7mBinECFnyTHVgacoSMTL-RPuxB1TFV8SMsqr3FepQ=s64",
      "userId": "05063874681058892168"
     },
     "user_tz": -360
    },
    "id": "YbtXzMwYQ7N2",
    "outputId": "205cdb86-906a-4c05-9c35-e867061d9474"
   },
   "outputs": [
    {
     "name": "stdout",
     "output_type": "stream",
     "text": [
      "[ 0.18734284  2.09890576 -0.60148091 -0.95618724 -0.93167916 -5.45611865\n",
      " -0.07809488  0.3790436  -0.5723614  -0.38548689  0.05044333  0.41802276\n",
      "  0.16418781  0.88415903  0.07930516 -1.80260703  4.04867968 -0.28006509\n",
      "  0.55059037]\n"
     ]
    }
   ],
   "source": [
    "print((X_train[0]))"
   ]
  },
  {
   "cell_type": "code",
   "execution_count": 13,
   "metadata": {
    "colab": {},
    "colab_type": "code",
    "id": "gyOeLkZFvewJ"
   },
   "outputs": [],
   "source": [
    "from sklearn.svm import SVC\n",
    "from sklearn.metrics import confusion_matrix,classification_report\n",
    "from sklearn.model_selection import cross_val_score, GridSearchCV"
   ]
  },
  {
   "cell_type": "markdown",
   "metadata": {
    "colab_type": "text",
    "id": "VBY7jRCtv8Jx"
   },
   "source": [
    "# Hyperparameter tuning using grid search and cross validation"
   ]
  },
  {
   "cell_type": "code",
   "execution_count": 14,
   "metadata": {
    "colab": {
     "base_uri": "https://localhost:8080/",
     "height": 1000
    },
    "colab_type": "code",
    "executionInfo": {
     "elapsed": 653079,
     "status": "ok",
     "timestamp": 1574706544938,
     "user": {
      "displayName": "ikramulhaq sagor",
      "photoUrl": "https://lh3.googleusercontent.com/a-/AAuE7mBinECFnyTHVgacoSMTL-RPuxB1TFV8SMsqr3FepQ=s64",
      "userId": "05063874681058892168"
     },
     "user_tz": -360
    },
    "id": "3UdLLGoHQxzn",
    "outputId": "9f58ec4e-25ba-4480-8f42-76fc88cb8f9b"
   },
   "outputs": [
    {
     "name": "stdout",
     "output_type": "stream",
     "text": [
      "Best parameters set found on development set:\n",
      "\n",
      "{'C': 1, 'gamma': 0.001, 'kernel': 'rbf'}\n",
      "Best score for training data: 0.965 \n",
      "\n",
      "Grid scores on development set:\n",
      "\n",
      "0.957 (+/-0.006) for {'C': 1, 'kernel': 'linear'}\n",
      "0.957 (+/-0.006) for {'C': 10, 'kernel': 'linear'}\n",
      "0.957 (+/-0.006) for {'C': 100, 'kernel': 'linear'}\n",
      "0.957 (+/-0.006) for {'C': 1000, 'kernel': 'linear'}\n",
      "0.965 (+/-0.002) for {'C': 1, 'gamma': 0.001, 'kernel': 'rbf'}\n",
      "0.965 (+/-0.002) for {'C': 1, 'gamma': 0.0001, 'kernel': 'rbf'}\n",
      "0.960 (+/-0.008) for {'C': 10, 'gamma': 0.001, 'kernel': 'rbf'}\n",
      "0.965 (+/-0.002) for {'C': 10, 'gamma': 0.0001, 'kernel': 'rbf'}\n",
      "0.958 (+/-0.004) for {'C': 100, 'gamma': 0.001, 'kernel': 'rbf'}\n",
      "0.960 (+/-0.008) for {'C': 100, 'gamma': 0.0001, 'kernel': 'rbf'}\n",
      "0.956 (+/-0.004) for {'C': 1000, 'gamma': 0.001, 'kernel': 'rbf'}\n",
      "0.958 (+/-0.004) for {'C': 1000, 'gamma': 0.0001, 'kernel': 'rbf'}\n",
      "0.965 (+/-0.002) for {'C': 1, 'degree': 3, 'gamma': 0.001, 'kernel': 'poly'}\n",
      "0.965 (+/-0.002) for {'C': 1, 'degree': 3, 'gamma': 0.0001, 'kernel': 'poly'}\n",
      "0.965 (+/-0.002) for {'C': 1, 'degree': 4, 'gamma': 0.001, 'kernel': 'poly'}\n",
      "0.965 (+/-0.002) for {'C': 1, 'degree': 4, 'gamma': 0.0001, 'kernel': 'poly'}\n",
      "0.965 (+/-0.002) for {'C': 1, 'degree': 5, 'gamma': 0.001, 'kernel': 'poly'}\n",
      "0.965 (+/-0.002) for {'C': 1, 'degree': 5, 'gamma': 0.0001, 'kernel': 'poly'}\n",
      "0.965 (+/-0.002) for {'C': 1, 'degree': 6, 'gamma': 0.001, 'kernel': 'poly'}\n",
      "0.965 (+/-0.002) for {'C': 1, 'degree': 6, 'gamma': 0.0001, 'kernel': 'poly'}\n",
      "0.965 (+/-0.002) for {'C': 1, 'degree': 7, 'gamma': 0.001, 'kernel': 'poly'}\n",
      "0.965 (+/-0.002) for {'C': 1, 'degree': 7, 'gamma': 0.0001, 'kernel': 'poly'}\n",
      "0.965 (+/-0.002) for {'C': 1, 'degree': 8, 'gamma': 0.001, 'kernel': 'poly'}\n",
      "0.965 (+/-0.002) for {'C': 1, 'degree': 8, 'gamma': 0.0001, 'kernel': 'poly'}\n",
      "0.965 (+/-0.002) for {'C': 10, 'degree': 3, 'gamma': 0.001, 'kernel': 'poly'}\n",
      "0.965 (+/-0.002) for {'C': 10, 'degree': 3, 'gamma': 0.0001, 'kernel': 'poly'}\n",
      "0.965 (+/-0.002) for {'C': 10, 'degree': 4, 'gamma': 0.001, 'kernel': 'poly'}\n",
      "0.965 (+/-0.002) for {'C': 10, 'degree': 4, 'gamma': 0.0001, 'kernel': 'poly'}\n",
      "0.965 (+/-0.002) for {'C': 10, 'degree': 5, 'gamma': 0.001, 'kernel': 'poly'}\n",
      "0.965 (+/-0.002) for {'C': 10, 'degree': 5, 'gamma': 0.0001, 'kernel': 'poly'}\n",
      "0.965 (+/-0.002) for {'C': 10, 'degree': 6, 'gamma': 0.001, 'kernel': 'poly'}\n",
      "0.965 (+/-0.002) for {'C': 10, 'degree': 6, 'gamma': 0.0001, 'kernel': 'poly'}\n",
      "0.965 (+/-0.002) for {'C': 10, 'degree': 7, 'gamma': 0.001, 'kernel': 'poly'}\n",
      "0.965 (+/-0.002) for {'C': 10, 'degree': 7, 'gamma': 0.0001, 'kernel': 'poly'}\n",
      "0.965 (+/-0.002) for {'C': 10, 'degree': 8, 'gamma': 0.001, 'kernel': 'poly'}\n",
      "0.965 (+/-0.002) for {'C': 10, 'degree': 8, 'gamma': 0.0001, 'kernel': 'poly'}\n",
      "0.965 (+/-0.002) for {'C': 100, 'degree': 3, 'gamma': 0.001, 'kernel': 'poly'}\n",
      "0.965 (+/-0.002) for {'C': 100, 'degree': 3, 'gamma': 0.0001, 'kernel': 'poly'}\n",
      "0.965 (+/-0.002) for {'C': 100, 'degree': 4, 'gamma': 0.001, 'kernel': 'poly'}\n",
      "0.965 (+/-0.002) for {'C': 100, 'degree': 4, 'gamma': 0.0001, 'kernel': 'poly'}\n",
      "0.965 (+/-0.002) for {'C': 100, 'degree': 5, 'gamma': 0.001, 'kernel': 'poly'}\n",
      "0.965 (+/-0.002) for {'C': 100, 'degree': 5, 'gamma': 0.0001, 'kernel': 'poly'}\n",
      "0.965 (+/-0.002) for {'C': 100, 'degree': 6, 'gamma': 0.001, 'kernel': 'poly'}\n",
      "0.965 (+/-0.002) for {'C': 100, 'degree': 6, 'gamma': 0.0001, 'kernel': 'poly'}\n",
      "0.965 (+/-0.002) for {'C': 100, 'degree': 7, 'gamma': 0.001, 'kernel': 'poly'}\n",
      "0.965 (+/-0.002) for {'C': 100, 'degree': 7, 'gamma': 0.0001, 'kernel': 'poly'}\n",
      "0.965 (+/-0.002) for {'C': 100, 'degree': 8, 'gamma': 0.001, 'kernel': 'poly'}\n",
      "0.965 (+/-0.002) for {'C': 100, 'degree': 8, 'gamma': 0.0001, 'kernel': 'poly'}\n",
      "0.961 (+/-0.006) for {'C': 1000, 'degree': 3, 'gamma': 0.001, 'kernel': 'poly'}\n",
      "0.965 (+/-0.002) for {'C': 1000, 'degree': 3, 'gamma': 0.0001, 'kernel': 'poly'}\n",
      "0.961 (+/-0.006) for {'C': 1000, 'degree': 4, 'gamma': 0.001, 'kernel': 'poly'}\n",
      "0.965 (+/-0.002) for {'C': 1000, 'degree': 4, 'gamma': 0.0001, 'kernel': 'poly'}\n",
      "0.965 (+/-0.002) for {'C': 1000, 'degree': 5, 'gamma': 0.001, 'kernel': 'poly'}\n",
      "0.965 (+/-0.002) for {'C': 1000, 'degree': 5, 'gamma': 0.0001, 'kernel': 'poly'}\n",
      "0.965 (+/-0.002) for {'C': 1000, 'degree': 6, 'gamma': 0.001, 'kernel': 'poly'}\n",
      "0.965 (+/-0.002) for {'C': 1000, 'degree': 6, 'gamma': 0.0001, 'kernel': 'poly'}\n",
      "0.965 (+/-0.002) for {'C': 1000, 'degree': 7, 'gamma': 0.001, 'kernel': 'poly'}\n",
      "0.965 (+/-0.002) for {'C': 1000, 'degree': 7, 'gamma': 0.0001, 'kernel': 'poly'}\n",
      "0.965 (+/-0.002) for {'C': 1000, 'degree': 8, 'gamma': 0.001, 'kernel': 'poly'}\n",
      "0.965 (+/-0.002) for {'C': 1000, 'degree': 8, 'gamma': 0.0001, 'kernel': 'poly'}\n",
      "\n",
      "Detailed classification report:\n",
      "\n",
      "The model is trained on the full development set.\n",
      "The scores are computed on the full evaluation set.\n",
      "\n",
      "              precision    recall  f1-score   support\n",
      "\n",
      "           1       0.00      0.00      0.00         1\n",
      "           2       0.00      0.00      0.00        11\n",
      "           3       0.97      1.00      0.98       388\n",
      "\n",
      "    accuracy                           0.97       400\n",
      "   macro avg       0.32      0.33      0.33       400\n",
      "weighted avg       0.94      0.97      0.96       400\n",
      "\n",
      "\n"
     ]
    }
   ],
   "source": [
    "import warnings\n",
    "warnings.filterwarnings('ignore')\n",
    "# Set the parameters by cross-validation\n",
    "tuned_parameters = [{'kernel': ['linear'], 'C': [1, 10, 100, 1000]},{'kernel': ['rbf'], 'gamma': [1e-3, 1e-4],\n",
    "                     'C': [1, 10, 100, 1000]},{'kernel': ['poly'], 'gamma': [1e-3, 1e-4],'degree':[3,4,5,6,7,8],\n",
    "                     'C': [1, 10, 100, 1000]}\n",
    "                    ]\n",
    "\n",
    "clf = GridSearchCV(SVC(), tuned_parameters, cv=2,\n",
    "                       scoring='accuracy')\n",
    "clf.fit(X_train[0:1000], y_train[0:1000])\n",
    "\n",
    "print(\"Best parameters set found on development set:\")\n",
    "print()\n",
    "print(clf.best_params_)\n",
    "print('Best score for training data:', clf.best_score_,\"\\n\")\n",
    "print(\"Grid scores on development set:\")\n",
    "print()\n",
    "means = clf.cv_results_['mean_test_score']\n",
    "stds = clf.cv_results_['std_test_score']\n",
    "for mean, std, params in zip(means, stds, clf.cv_results_['params']):\n",
    "    print(\"%0.3f (+/-%0.03f) for %r\"\n",
    "              % (mean, std * 2, params))\n",
    "print()\n",
    "\n",
    "print(\"Detailed classification report:\")\n",
    "print()\n",
    "print(\"The model is trained on the full development set.\")\n",
    "print(\"The scores are computed on the full evaluation set.\")\n",
    "print()\n",
    "y_true, y_pred = y_test, clf.predict(X_test)\n",
    "print(classification_report(y_true, y_pred))\n",
    "print()\n",
    "\n"
   ]
  },
  {
   "cell_type": "code",
   "execution_count": 15,
   "metadata": {},
   "outputs": [
    {
     "data": {
      "text/plain": [
       "array([[  0,   0,   1],\n",
       "       [  0,   0,  11],\n",
       "       [  0,   0, 388]])"
      ]
     },
     "execution_count": 15,
     "metadata": {},
     "output_type": "execute_result"
    }
   ],
   "source": [
    "cm = confusion_matrix(y_true, y_pred)\n",
    "cm"
   ]
  },
  {
   "cell_type": "code",
   "execution_count": 16,
   "metadata": {},
   "outputs": [
    {
     "name": "stdout",
     "output_type": "stream",
     "text": [
      "Predict   1         2         3         \n",
      "Actual\n",
      "1         0         0         1         \n",
      "\n",
      "2         0         0         11        \n",
      "\n",
      "3         0         0         388       \n",
      "\n",
      "\n",
      "\n",
      "\n",
      "\n",
      "Overall Statistics : \n",
      "\n",
      "95% CI                                                            (0.95328,0.98672)\n",
      "ACC Macro                                                         0.98\n",
      "AUNP                                                              0.5\n",
      "AUNU                                                              0.5\n",
      "Bennett S                                                         0.955\n",
      "CBA                                                               0.32333\n",
      "CSI                                                               None\n",
      "Chi-Squared                                                       None\n",
      "Chi-Squared DF                                                    4\n",
      "Conditional Entropy                                               -0.0\n",
      "Cramer V                                                          None\n",
      "Cross Entropy                                                     -0.0\n",
      "F1 Macro                                                          0.32826\n",
      "F1 Micro                                                          0.97\n",
      "Gwet AC1                                                          0.96955\n",
      "Hamming Loss                                                      0.03\n",
      "Joint Entropy                                                     0.20681\n",
      "KL Divergence                                                     None\n",
      "Kappa                                                             0.0\n",
      "Kappa 95% CI                                                      (-0.55725,0.55725)\n",
      "Kappa No Prevalence                                               0.94\n",
      "Kappa Standard Error                                              0.28431\n",
      "Kappa Unbiased                                                    -0.01405\n",
      "Lambda A                                                          0.0\n",
      "Lambda B                                                          None\n",
      "Mutual Information                                                0.0\n",
      "NIR                                                               0.97\n",
      "Overall ACC                                                       0.97\n",
      "Overall CEN                                                       0.04838\n",
      "Overall J                                                         (0.97,0.32333)\n",
      "Overall MCC                                                       None\n",
      "Overall MCEN                                                      0.0797\n",
      "Overall RACC                                                      0.97\n",
      "Overall RACCU                                                     0.97042\n",
      "P-Value                                                           0.57597\n",
      "PPV Macro                                                         None\n",
      "PPV Micro                                                         0.97\n",
      "Pearson C                                                         None\n",
      "Phi-Squared                                                       None\n",
      "RCI                                                               0.0\n",
      "RR                                                                133.33333\n",
      "Reference Entropy                                                 0.20681\n",
      "Response Entropy                                                  -0.0\n",
      "SOA1(Landis & Koch)                                               Slight\n",
      "SOA2(Fleiss)                                                      Poor\n",
      "SOA3(Altman)                                                      Poor\n",
      "SOA4(Cicchetti)                                                   Poor\n",
      "SOA5(Cramer)                                                      None\n",
      "SOA6(Matthews)                                                    None\n",
      "Scott PI                                                          -0.01405\n",
      "Standard Error                                                    0.00853\n",
      "TPR Macro                                                         0.33333\n",
      "TPR Micro                                                         0.97\n",
      "Zero-one Loss                                                     12\n",
      "\n",
      "Class Statistics :\n",
      "\n",
      "Classes                                                           1             2             3             \n",
      "ACC(Accuracy)                                                     0.9975        0.9725        0.97          \n",
      "AGF(Adjusted F-score)                                             0.0           0.0           0.0           \n",
      "AGM(Adjusted geometric mean)                                      0             0             0.0           \n",
      "AM(Difference between automatic and manual classification)        -1            -11           12            \n",
      "AUC(Area under the ROC curve)                                     0.5           0.5           0.5           \n",
      "AUCI(AUC value interpretation)                                    Poor          Poor          Poor          \n",
      "AUPR(Area under the PR curve)                                     None          None          0.985         \n",
      "BCD(Bray-Curtis dissimilarity)                                    0.00125       0.01375       0.015         \n",
      "BM(Informedness or bookmaker informedness)                        0.0           0.0           0.0           \n",
      "CEN(Confusion entropy)                                            0.0           0.0           0.04912       \n",
      "DOR(Diagnostic odds ratio)                                        None          None          None          \n",
      "DP(Discriminant power)                                            None          None          None          \n",
      "DPI(Discriminant power interpretation)                            None          None          None          \n",
      "ERR(Error rate)                                                   0.0025        0.0275        0.03          \n",
      "F0.5(F0.5 score)                                                  0.0           0.0           0.97586       \n",
      "F1(F1 score - harmonic mean of precision and sensitivity)         0.0           0.0           0.98477       \n",
      "F2(F2 score)                                                      0.0           0.0           0.99385       \n",
      "FDR(False discovery rate)                                         None          None          0.03          \n",
      "FN(False negative/miss/type 2 error)                              1             11            0             \n",
      "FNR(Miss rate or false negative rate)                             1.0           1.0           0.0           \n",
      "FOR(False omission rate)                                          0.0025        0.0275        None          \n",
      "FP(False positive/type 1 error/false alarm)                       0             0             12            \n",
      "FPR(Fall-out or false positive rate)                              0.0           0.0           1.0           \n",
      "G(G-measure geometric mean of precision and sensitivity)          None          None          0.98489       \n",
      "GI(Gini index)                                                    0.0           0.0           0.0           \n",
      "GM(G-mean geometric mean of specificity and sensitivity)          0.0           0.0           0.0           \n",
      "IBA(Index of balanced accuracy)                                   0.0           0.0           0.0           \n",
      "ICSI(Individual classification success index)                     None          None          0.97          \n",
      "IS(Information score)                                             None          None          0.0           \n",
      "J(Jaccard index)                                                  0.0           0.0           0.97          \n",
      "LS(Lift score)                                                    None          None          1.0           \n",
      "MCC(Matthews correlation coefficient)                             None          None          None          \n",
      "MCCI(Matthews correlation coefficient interpretation)             None          None          None          \n",
      "MCEN(Modified confusion entropy)                                  0.0           0.0           0.08209       \n",
      "MK(Markedness)                                                    None          None          None          \n",
      "N(Condition negative)                                             399           389           12            \n",
      "NLR(Negative likelihood ratio)                                    1.0           1.0           None          \n",
      "NLRI(Negative likelihood ratio interpretation)                    Negligible    Negligible    None          \n",
      "NPV(Negative predictive value)                                    0.9975        0.9725        None          \n",
      "OC(Overlap coefficient)                                           None          None          1.0           \n",
      "OOC(Otsuka-Ochiai coefficient)                                    None          None          0.98489       \n",
      "OP(Optimized precision)                                           -0.0025       -0.0275       -0.03         \n",
      "P(Condition positive or support)                                  1             11            388           \n",
      "PLR(Positive likelihood ratio)                                    None          None          1.0           \n",
      "PLRI(Positive likelihood ratio interpretation)                    None          None          Poor          \n",
      "POP(Population)                                                   400           400           400           \n",
      "PPV(Precision or positive predictive value)                       None          None          0.97          \n",
      "PRE(Prevalence)                                                   0.0025        0.0275        0.97          \n",
      "Q(Yule Q - coefficient of colligation)                            None          None          None          \n",
      "RACC(Random accuracy)                                             0.0           0.0           0.97          \n",
      "RACCU(Random accuracy unbiased)                                   0.0           0.00019       0.97022       \n",
      "TN(True negative/correct rejection)                               399           389           0             \n",
      "TNR(Specificity or true negative rate)                            1.0           1.0           0.0           \n",
      "TON(Test outcome negative)                                        400           400           0             \n",
      "TOP(Test outcome positive)                                        0             0             400           \n",
      "TP(True positive/hit)                                             0             0             388           \n",
      "TPR(Sensitivity, recall, hit rate, or true positive rate)         0.0           0.0           1.0           \n",
      "Y(Youden index)                                                   0.0           0.0           0.0           \n",
      "dInd(Distance index)                                              1.0           1.0           1.0           \n",
      "sInd(Similarity index)                                            0.29289       0.29289       0.29289       \n",
      "\n"
     ]
    }
   ],
   "source": [
    "from pycm import *\n",
    "cm = ConfusionMatrix(y_true, y_pred)\n",
    "print(cm)"
   ]
  },
  {
   "cell_type": "code",
   "execution_count": 17,
   "metadata": {
    "colab": {},
    "colab_type": "code",
    "id": "0Uud4iCKbqbq"
   },
   "outputs": [
    {
     "name": "stdout",
     "output_type": "stream",
     "text": [
      "Testing accuracy for best combination  0.97\n"
     ]
    }
   ],
   "source": [
    "from sklearn.metrics import accuracy_score\n",
    "classifier = SVC(kernel='rbf',C=1,gamma=.001)\n",
    "classifier.fit(X_train, y_train)\n",
    "y_pred = classifier.predict(X_test)\n",
    "accuracy = accuracy_score(y_test,y_pred)\n",
    "print(\"Testing accuracy for best combination \",accuracy)"
   ]
  },
  {
   "cell_type": "code",
   "execution_count": 34,
   "metadata": {},
   "outputs": [
    {
     "data": {
      "image/png": "[encoded data removed]",
      "text/plain": [
       "<Figure size 432x288 with 1 Axes>"
      ]
     },
     "metadata": {
      "image/png": {
       "height": 244,
       "width": 537
      },
      "needs_background": "light"
     },
     "output_type": "display_data"
    }
   ],
   "source": [
    "def f_importances(coef, names, top=-1):\n",
    "    imp = coef\n",
    "    imp, names = zip(*sorted(list(zip(imp, names))))\n",
    "    # Show all features\n",
    "    if top == -1:\n",
    "        top = len(names)\n",
    "    plt.barh(range(top), imp[::-1][0:top], align='center')\n",
    "    plt.yticks(range(top), names[::-1][0:top])\n",
    "    plt.show()\n",
    "    \n",
    "linear_classifier = SVC(kernel = 'linear',C=1)\n",
    "linear_classifier.fit(X_train,y_train)\n",
    "features = list(my_df.columns)\n",
    "f_importances(abs(linear_classifier.coef_[2]), features,top=-1)\n"
   ]
  },
  {
   "cell_type": "markdown",
   "metadata": {},
   "source": [
    "# Here we will use PCA"
   ]
  },
  {
   "cell_type": "code",
   "execution_count": 168,
   "metadata": {},
   "outputs": [],
   "source": [
    "\n",
    "# Scaling the Train and Test feature set \n",
    "from sklearn.preprocessing import StandardScaler\n",
    "scaler = StandardScaler()\n",
    "X_pc = scaler.fit_transform(X)\n"
   ]
  },
  {
   "cell_type": "code",
   "execution_count": 161,
   "metadata": {},
   "outputs": [],
   "source": [
    "#implementing PCA\n",
    "from sklearn.decomposition import PCA\n",
    "pca = PCA(.9)\n",
    "X_transform = pca.fit_transform(X_pc)"
   ]
  },
  {
   "cell_type": "code",
   "execution_count": 162,
   "metadata": {},
   "outputs": [
    {
     "data": {
      "text/plain": [
       "15"
      ]
     },
     "execution_count": 162,
     "metadata": {},
     "output_type": "execute_result"
    }
   ],
   "source": [
    "#here to have 90% of information we need to take 15 PC that means 15D values\n",
    "pca.n_components_"
   ]
  },
  {
   "cell_type": "code",
   "execution_count": 163,
   "metadata": {},
   "outputs": [
    {
     "name": "stdout",
     "output_type": "stream",
     "text": [
      "[-0.78660249 -0.04416728 -0.39468017 -0.3380364   0.37398982  0.34369462\n",
      " -0.02623166 -0.79028002  0.08900848  1.3319053  -0.30295115 -0.82813247\n",
      " -0.71916519 -0.34484004  1.36728889] (2000, 15)\n"
     ]
    }
   ],
   "source": [
    "#this is the PC value for every data in a perticular dimention .\n",
    "print(X_transform[0],X_transform.shape)\n",
    "# print(pca.explained_variance_ratio_)\n"
   ]
  },
  {
   "cell_type": "code",
   "execution_count": 164,
   "metadata": {},
   "outputs": [
    {
     "name": "stdout",
     "output_type": "stream",
     "text": [
      "[0.11340466 0.10096723 0.08570522 0.07538573 0.06604652 0.06041844\n",
      " 0.05623508 0.05538557 0.05216759 0.05061488 0.05010686 0.04723648\n",
      " 0.0447513  0.0406921  0.03306896]\n"
     ]
    }
   ],
   "source": [
    "#this is the array where we can see the variance of every PC. That means how much information every pc holds\n",
    "print(pca.explained_variance_ratio_)"
   ]
  },
  {
   "cell_type": "code",
   "execution_count": 165,
   "metadata": {},
   "outputs": [
    {
     "data": {
      "text/plain": [
       "(15, 19)"
      ]
     },
     "execution_count": 165,
     "metadata": {},
     "output_type": "execute_result"
    }
   ],
   "source": [
    "#this can give us the clear idea of features impact .\n",
    "#pca.componensts_ provides the dimension value for every features in the reduced dimention \n",
    "pca.components_.shape"
   ]
  },
  {
   "cell_type": "markdown",
   "metadata": {},
   "source": [
    "# So we can say the significance of the Principle component num 1 to 11 (as they above 5%)"
   ]
  },
  {
   "cell_type": "code",
   "execution_count": 182,
   "metadata": {},
   "outputs": [
    {
     "name": "stdout",
     "output_type": "stream",
     "text": [
      "[0.11340367 0.10095836]\n"
     ]
    }
   ],
   "source": [
    "#implementing PCA\n",
    "from sklearn.decomposition import PCA\n",
    "pca = PCA(n_components = 2)\n",
    "X_transform = pca.fit_transform(X_pc)\n",
    "print(pca.explained_variance_ratio_)"
   ]
  },
  {
   "cell_type": "code",
   "execution_count": 171,
   "metadata": {},
   "outputs": [
    {
     "data": {
      "text/html": [
       "<div>\n",
       "<style scoped>\n",
       "    .dataframe tbody tr th:only-of-type {\n",
       "        vertical-align: middle;\n",
       "    }\n",
       "\n",
       "    .dataframe tbody tr th {\n",
       "        vertical-align: top;\n",
       "    }\n",
       "\n",
       "    .dataframe thead th {\n",
       "        text-align: right;\n",
       "    }\n",
       "</style>\n",
       "<table border=\"1\" class=\"dataframe\">\n",
       "  <thead>\n",
       "    <tr style=\"text-align: right;\">\n",
       "      <th></th>\n",
       "      <th>Date</th>\n",
       "      <th>Day of Week</th>\n",
       "      <th>Time</th>\n",
       "      <th>Lane Count</th>\n",
       "      <th>Crash Type</th>\n",
       "      <th>Functional Class</th>\n",
       "      <th>Speed Limit</th>\n",
       "      <th>Environmental Conditions</th>\n",
       "      <th>Light Conditions</th>\n",
       "      <th>Surface Condition</th>\n",
       "      <th>Total Vehicles Involved</th>\n",
       "      <th>Curve Related</th>\n",
       "      <th>Alcohol Involved</th>\n",
       "      <th>Distracted Driving Involved</th>\n",
       "      <th>Drugged Driver Involved</th>\n",
       "      <th>Older Driver Involved</th>\n",
       "      <th>Temp Traffic Control Zone</th>\n",
       "      <th>Traffic Controls Present</th>\n",
       "      <th>Vehicle Type</th>\n",
       "    </tr>\n",
       "  </thead>\n",
       "  <tbody>\n",
       "    <tr>\n",
       "      <td>PC-1</td>\n",
       "      <td>-0.039990</td>\n",
       "      <td>0.124505</td>\n",
       "      <td>0.482675</td>\n",
       "      <td>0.014819</td>\n",
       "      <td>0.333495</td>\n",
       "      <td>-0.033175</td>\n",
       "      <td>0.110536</td>\n",
       "      <td>-0.282321</td>\n",
       "      <td>0.448827</td>\n",
       "      <td>0.298098</td>\n",
       "      <td>-0.341780</td>\n",
       "      <td>-0.089645</td>\n",
       "      <td>-0.304969</td>\n",
       "      <td>0.043877</td>\n",
       "      <td>-0.141463</td>\n",
       "      <td>0.095381</td>\n",
       "      <td>-0.077184</td>\n",
       "      <td>0.015875</td>\n",
       "      <td>-0.007388</td>\n",
       "    </tr>\n",
       "    <tr>\n",
       "      <td>PC-2</td>\n",
       "      <td>-0.020519</td>\n",
       "      <td>-0.055110</td>\n",
       "      <td>-0.365299</td>\n",
       "      <td>-0.303035</td>\n",
       "      <td>0.187437</td>\n",
       "      <td>-0.061417</td>\n",
       "      <td>-0.256056</td>\n",
       "      <td>-0.454196</td>\n",
       "      <td>-0.390958</td>\n",
       "      <td>0.449977</td>\n",
       "      <td>-0.228882</td>\n",
       "      <td>-0.151793</td>\n",
       "      <td>0.051187</td>\n",
       "      <td>-0.096506</td>\n",
       "      <td>-0.021889</td>\n",
       "      <td>-0.047055</td>\n",
       "      <td>0.071320</td>\n",
       "      <td>-0.045203</td>\n",
       "      <td>0.089407</td>\n",
       "    </tr>\n",
       "  </tbody>\n",
       "</table>\n",
       "</div>"
      ],
      "text/plain": [
       "          Date  Day of Week      Time  Lane Count  Crash Type  \\\n",
       "PC-1 -0.039990     0.124505  0.482675    0.014819    0.333495   \n",
       "PC-2 -0.020519    -0.055110 -0.365299   -0.303035    0.187437   \n",
       "\n",
       "      Functional Class  Speed Limit  Environmental Conditions  \\\n",
       "PC-1         -0.033175     0.110536                 -0.282321   \n",
       "PC-2         -0.061417    -0.256056                 -0.454196   \n",
       "\n",
       "      Light Conditions  Surface Condition  Total Vehicles Involved  \\\n",
       "PC-1          0.448827           0.298098                -0.341780   \n",
       "PC-2         -0.390958           0.449977                -0.228882   \n",
       "\n",
       "      Curve Related  Alcohol Involved  Distracted Driving Involved  \\\n",
       "PC-1      -0.089645         -0.304969                     0.043877   \n",
       "PC-2      -0.151793          0.051187                    -0.096506   \n",
       "\n",
       "      Drugged Driver Involved  Older Driver Involved  \\\n",
       "PC-1                -0.141463               0.095381   \n",
       "PC-2                -0.021889              -0.047055   \n",
       "\n",
       "      Temp Traffic Control Zone  Traffic Controls Present  Vehicle Type  \n",
       "PC-1                  -0.077184                  0.015875     -0.007388  \n",
       "PC-2                   0.071320                 -0.045203      0.089407  "
      ]
     },
     "execution_count": 171,
     "metadata": {},
     "output_type": "execute_result"
    }
   ],
   "source": [
    "pd.DataFrame(pca.components_,columns=my_df2.columns[1:20],index = ['PC-1','PC-2'])"
   ]
  },
  {
   "cell_type": "markdown",
   "metadata": {},
   "source": [
    "# Here is the contribution of every features in the PC. By this we can find the most significant features\n"
   ]
  },
  {
   "cell_type": "markdown",
   "metadata": {},
   "source": [
    "# How we will use this PC for train and test \n"
   ]
  },
  {
   "cell_type": "code",
   "execution_count": 183,
   "metadata": {},
   "outputs": [
    {
     "name": "stdout",
     "output_type": "stream",
     "text": [
      "(400, 19)\n"
     ]
    }
   ],
   "source": [
    "print(X_test.shape)"
   ]
  },
  {
   "cell_type": "code",
   "execution_count": 184,
   "metadata": {},
   "outputs": [
    {
     "name": "stdout",
     "output_type": "stream",
     "text": [
      "[0.11434735 0.10123576 0.08775116 0.07530874 0.06774872 0.06081814\n",
      " 0.05569163 0.05454225 0.0527729  0.05063731 0.04908673 0.04712752\n",
      " 0.04468464 0.04054422 0.03237529]\n"
     ]
    }
   ],
   "source": [
    "pca = PCA(n_components = 15) \n",
    "X_train = pca.fit_transform(X_train) \n",
    "X_test = pca.transform(X_test) \n",
    "  \n",
    "explained_variance = pca.explained_variance_ratio_ \n",
    "print(explained_variance)"
   ]
  },
  {
   "cell_type": "code",
   "execution_count": 185,
   "metadata": {},
   "outputs": [
    {
     "name": "stdout",
     "output_type": "stream",
     "text": [
      "Best parameters set found on development set:\n",
      "\n",
      "{'C': 1, 'kernel': 'linear'}\n",
      "Best score for training data: 0.9625 \n",
      "\n",
      "Grid scores on development set:\n",
      "\n",
      "0.963 (+/-0.002) for {'C': 1, 'kernel': 'linear'}\n",
      "0.963 (+/-0.002) for {'C': 10, 'kernel': 'linear'}\n",
      "0.962 (+/-0.004) for {'C': 100, 'kernel': 'linear'}\n",
      "0.960 (+/-0.007) for {'C': 1000, 'kernel': 'linear'}\n",
      "0.963 (+/-0.002) for {'C': 1, 'gamma': 0.001, 'kernel': 'rbf'}\n",
      "0.963 (+/-0.002) for {'C': 1, 'gamma': 0.0001, 'kernel': 'rbf'}\n",
      "0.963 (+/-0.002) for {'C': 10, 'gamma': 0.001, 'kernel': 'rbf'}\n",
      "0.963 (+/-0.002) for {'C': 10, 'gamma': 0.0001, 'kernel': 'rbf'}\n",
      "0.962 (+/-0.001) for {'C': 100, 'gamma': 0.001, 'kernel': 'rbf'}\n",
      "0.963 (+/-0.002) for {'C': 100, 'gamma': 0.0001, 'kernel': 'rbf'}\n",
      "0.961 (+/-0.004) for {'C': 1000, 'gamma': 0.001, 'kernel': 'rbf'}\n",
      "0.963 (+/-0.002) for {'C': 1000, 'gamma': 0.0001, 'kernel': 'rbf'}\n",
      "0.963 (+/-0.002) for {'C': 1, 'degree': 3, 'gamma': 0.001, 'kernel': 'poly'}\n",
      "0.963 (+/-0.002) for {'C': 1, 'degree': 3, 'gamma': 0.0001, 'kernel': 'poly'}\n",
      "0.963 (+/-0.002) for {'C': 1, 'degree': 4, 'gamma': 0.001, 'kernel': 'poly'}\n",
      "0.963 (+/-0.002) for {'C': 1, 'degree': 4, 'gamma': 0.0001, 'kernel': 'poly'}\n",
      "0.963 (+/-0.002) for {'C': 1, 'degree': 5, 'gamma': 0.001, 'kernel': 'poly'}\n",
      "0.963 (+/-0.002) for {'C': 1, 'degree': 5, 'gamma': 0.0001, 'kernel': 'poly'}\n",
      "0.963 (+/-0.002) for {'C': 1, 'degree': 6, 'gamma': 0.001, 'kernel': 'poly'}\n",
      "0.963 (+/-0.002) for {'C': 1, 'degree': 6, 'gamma': 0.0001, 'kernel': 'poly'}\n",
      "0.963 (+/-0.002) for {'C': 1, 'degree': 7, 'gamma': 0.001, 'kernel': 'poly'}\n",
      "0.963 (+/-0.002) for {'C': 1, 'degree': 7, 'gamma': 0.0001, 'kernel': 'poly'}\n",
      "0.963 (+/-0.002) for {'C': 1, 'degree': 8, 'gamma': 0.001, 'kernel': 'poly'}\n",
      "0.963 (+/-0.002) for {'C': 1, 'degree': 8, 'gamma': 0.0001, 'kernel': 'poly'}\n",
      "0.963 (+/-0.002) for {'C': 10, 'degree': 3, 'gamma': 0.001, 'kernel': 'poly'}\n",
      "0.963 (+/-0.002) for {'C': 10, 'degree': 3, 'gamma': 0.0001, 'kernel': 'poly'}\n",
      "0.963 (+/-0.002) for {'C': 10, 'degree': 4, 'gamma': 0.001, 'kernel': 'poly'}\n",
      "0.963 (+/-0.002) for {'C': 10, 'degree': 4, 'gamma': 0.0001, 'kernel': 'poly'}\n",
      "0.963 (+/-0.002) for {'C': 10, 'degree': 5, 'gamma': 0.001, 'kernel': 'poly'}\n",
      "0.963 (+/-0.002) for {'C': 10, 'degree': 5, 'gamma': 0.0001, 'kernel': 'poly'}\n",
      "0.963 (+/-0.002) for {'C': 10, 'degree': 6, 'gamma': 0.001, 'kernel': 'poly'}\n",
      "0.963 (+/-0.002) for {'C': 10, 'degree': 6, 'gamma': 0.0001, 'kernel': 'poly'}\n",
      "0.963 (+/-0.002) for {'C': 10, 'degree': 7, 'gamma': 0.001, 'kernel': 'poly'}\n",
      "0.963 (+/-0.002) for {'C': 10, 'degree': 7, 'gamma': 0.0001, 'kernel': 'poly'}\n",
      "0.963 (+/-0.002) for {'C': 10, 'degree': 8, 'gamma': 0.001, 'kernel': 'poly'}\n",
      "0.963 (+/-0.002) for {'C': 10, 'degree': 8, 'gamma': 0.0001, 'kernel': 'poly'}\n",
      "0.963 (+/-0.002) for {'C': 100, 'degree': 3, 'gamma': 0.001, 'kernel': 'poly'}\n",
      "0.963 (+/-0.002) for {'C': 100, 'degree': 3, 'gamma': 0.0001, 'kernel': 'poly'}\n",
      "0.963 (+/-0.002) for {'C': 100, 'degree': 4, 'gamma': 0.001, 'kernel': 'poly'}\n",
      "0.963 (+/-0.002) for {'C': 100, 'degree': 4, 'gamma': 0.0001, 'kernel': 'poly'}\n",
      "0.963 (+/-0.002) for {'C': 100, 'degree': 5, 'gamma': 0.001, 'kernel': 'poly'}\n",
      "0.963 (+/-0.002) for {'C': 100, 'degree': 5, 'gamma': 0.0001, 'kernel': 'poly'}\n",
      "0.963 (+/-0.002) for {'C': 100, 'degree': 6, 'gamma': 0.001, 'kernel': 'poly'}\n",
      "0.963 (+/-0.002) for {'C': 100, 'degree': 6, 'gamma': 0.0001, 'kernel': 'poly'}\n",
      "0.963 (+/-0.002) for {'C': 100, 'degree': 7, 'gamma': 0.001, 'kernel': 'poly'}\n",
      "0.963 (+/-0.002) for {'C': 100, 'degree': 7, 'gamma': 0.0001, 'kernel': 'poly'}\n",
      "0.963 (+/-0.002) for {'C': 100, 'degree': 8, 'gamma': 0.001, 'kernel': 'poly'}\n",
      "0.963 (+/-0.002) for {'C': 100, 'degree': 8, 'gamma': 0.0001, 'kernel': 'poly'}\n",
      "0.962 (+/-0.001) for {'C': 1000, 'degree': 3, 'gamma': 0.001, 'kernel': 'poly'}\n",
      "0.963 (+/-0.002) for {'C': 1000, 'degree': 3, 'gamma': 0.0001, 'kernel': 'poly'}\n",
      "0.963 (+/-0.002) for {'C': 1000, 'degree': 4, 'gamma': 0.001, 'kernel': 'poly'}\n",
      "0.963 (+/-0.002) for {'C': 1000, 'degree': 4, 'gamma': 0.0001, 'kernel': 'poly'}\n",
      "0.963 (+/-0.002) for {'C': 1000, 'degree': 5, 'gamma': 0.001, 'kernel': 'poly'}\n",
      "0.963 (+/-0.002) for {'C': 1000, 'degree': 5, 'gamma': 0.0001, 'kernel': 'poly'}\n",
      "0.963 (+/-0.002) for {'C': 1000, 'degree': 6, 'gamma': 0.001, 'kernel': 'poly'}\n",
      "0.963 (+/-0.002) for {'C': 1000, 'degree': 6, 'gamma': 0.0001, 'kernel': 'poly'}\n",
      "0.963 (+/-0.002) for {'C': 1000, 'degree': 7, 'gamma': 0.001, 'kernel': 'poly'}\n",
      "0.963 (+/-0.002) for {'C': 1000, 'degree': 7, 'gamma': 0.0001, 'kernel': 'poly'}\n",
      "0.963 (+/-0.002) for {'C': 1000, 'degree': 8, 'gamma': 0.001, 'kernel': 'poly'}\n",
      "0.963 (+/-0.002) for {'C': 1000, 'degree': 8, 'gamma': 0.0001, 'kernel': 'poly'}\n",
      "\n",
      "Detailed classification report:\n",
      "\n",
      "The model is trained on the full development set.\n",
      "The scores are computed on the full evaluation set.\n",
      "\n",
      "              precision    recall  f1-score   support\n",
      "\n",
      "           1       0.00      0.00      0.00         1\n",
      "           2       0.00      0.00      0.00        11\n",
      "           3       0.97      1.00      0.98       388\n",
      "\n",
      "    accuracy                           0.97       400\n",
      "   macro avg       0.32      0.33      0.33       400\n",
      "weighted avg       0.94      0.97      0.96       400\n",
      "\n",
      "\n"
     ]
    }
   ],
   "source": [
    "import warnings\n",
    "warnings.filterwarnings('ignore')\n",
    "# Set the parameters by cross-validation\n",
    "tuned_parameters = [{'kernel': ['linear'], 'C': [1, 10, 100, 1000]},{'kernel': ['rbf'], 'gamma': [1e-3, 1e-4],\n",
    "                     'C': [1, 10, 100, 1000]},{'kernel': ['poly'], 'gamma': [1e-3, 1e-4],'degree':[3,4,5,6,7,8],\n",
    "                     'C': [1, 10, 100, 1000]}\n",
    "                    ]\n",
    "\n",
    "clf = GridSearchCV(SVC(), tuned_parameters, cv=2,\n",
    "                       scoring='accuracy')\n",
    "clf.fit(X_train, y_train)\n",
    "\n",
    "print(\"Best parameters set found on development set:\")\n",
    "print()\n",
    "print(clf.best_params_)\n",
    "print('Best score for training data:', clf.best_score_,\"\\n\")\n",
    "print(\"Grid scores on development set:\")\n",
    "print()\n",
    "means = clf.cv_results_['mean_test_score']\n",
    "stds = clf.cv_results_['std_test_score']\n",
    "for mean, std, params in zip(means, stds, clf.cv_results_['params']):\n",
    "    print(\"%0.3f (+/-%0.03f) for %r\"\n",
    "              % (mean, std * 2, params))\n",
    "print()\n",
    "\n",
    "print(\"Detailed classification report:\")\n",
    "print()\n",
    "print(\"The model is trained on the full development set.\")\n",
    "print(\"The scores are computed on the full evaluation set.\")\n",
    "print()\n",
    "y_true, y_pred = y_test, clf.predict(X_test)\n",
    "print(classification_report(y_true, y_pred))\n",
    "print()\n"
   ]
  },
  {
   "cell_type": "code",
   "execution_count": 130,
   "metadata": {},
   "outputs": [
    {
     "name": "stdout",
     "output_type": "stream",
     "text": [
      "Testing accuracy for best combination  0.97\n"
     ]
    }
   ],
   "source": [
    "from sklearn.metrics import accuracy_score\n",
    "classifier = SVC(kernel='linear',C=1)\n",
    "classifier.fit(X_train, y_train)\n",
    "y_pred = classifier.predict(X_test)\n",
    "accuracy = accuracy_score(y_test,y_pred)\n",
    "print(\"Testing accuracy for best combination \",accuracy)"
   ]
  },
  {
   "cell_type": "code",
   "execution_count": null,
   "metadata": {},
   "outputs": [],
   "source": []
  }
 ],
 "metadata": {
  "accelerator": "GPU",
  "colab": {
   "name": "project_poc_classifier.ipynb",
   "provenance": []
  },
  "kernelspec": {
   "display_name": "Python 3",
   "language": "python",
   "name": "python3"
  },
  "language_info": {
   "codemirror_mode": {
    "name": "ipython",
    "version": 2
   },
   "file_extension": ".py",
   "mimetype": "text/x-python",
   "name": "python",
   "nbconvert_exporter": "python",
   "pygments_lexer": "ipython2",
   "version": "2.7.16"
  }
 },
 "nbformat": 4,
 "nbformat_minor": 1
}
